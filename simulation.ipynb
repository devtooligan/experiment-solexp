{
 "cells": [
  {
   "cell_type": "markdown",
   "metadata": {},
   "source": [
    "# Simulation"
   ]
  },
  {
   "cell_type": "markdown",
   "metadata": {
    "tags": []
   },
   "source": [
    "## Prelude"
   ]
  },
  {
   "cell_type": "code",
   "execution_count": null,
   "metadata": {},
   "outputs": [],
   "source": [
    "!pip install matplotlib numpy mpmath"
   ]
  },
  {
   "cell_type": "code",
   "execution_count": null,
   "metadata": {},
   "outputs": [],
   "source": [
    "%matplotlib inline\n",
    "\n",
    "import matplotlib\n",
    "import numpy as np\n",
    "from mpmath import mp\n",
    "import matplotlib.pyplot as plt\n",
    "import math\n",
    "import warnings\n",
    "from ipywidgets import interact, interactive, fixed, interact_manual"
   ]
  },
  {
   "cell_type": "code",
   "execution_count": null,
   "metadata": {},
   "outputs": [],
   "source": [
    "plt.rcParams['figure.dpi'] = 90\n",
    "plt.rcParams['figure.figsize'] = [12.0, 8.0]\n",
    "plt.rcParams['text.usetex'] = False"
   ]
  },
  {
   "cell_type": "code",
   "execution_count": null,
   "metadata": {},
   "outputs": [],
   "source": [
    "plt.rcParams"
   ]
  },
  {
   "cell_type": "code",
   "execution_count": null,
   "metadata": {},
   "outputs": [],
   "source": [
    "import watermark.watermark as watermark\n",
    "print(watermark(machine=True, iso8601=True, python=True, iversions=True, globals_=globals()))"
   ]
  },
  {
   "cell_type": "code",
   "execution_count": null,
   "metadata": {},
   "outputs": [],
   "source": [
    "def intrange(bot, top, num = 100):\n",
    "    bot = int(bot)\n",
    "    top = int(top)\n",
    "    x = np.linspace(bot, top, num = num)\n",
    "    x = [max(min(int(x), top), bot) for x in x]\n",
    "    return x"
   ]
  },
  {
   "cell_type": "markdown",
   "metadata": {},
   "source": [
    "## EVM primitives"
   ]
  },
  {
   "cell_type": "code",
   "execution_count": null,
   "metadata": {},
   "outputs": [],
   "source": [
    "BASE = 2**256\n",
    "SIGN = BASE // 2"
   ]
  },
  {
   "cell_type": "code",
   "execution_count": null,
   "metadata": {},
   "outputs": [],
   "source": [
    "def _valid(a):\n",
    "    assert type(a) is int\n",
    "    assert a >= 0\n",
    "    assert a < BASE\n",
    "\n",
    "def _abs(a):\n",
    "    _valid(a)\n",
    "    if a > SIGN:\n",
    "        a = BASE - a\n",
    "    assert a >= 0 and a < SIGN\n",
    "    return a\n",
    "\n",
    "def bnot(a):\n",
    "    _valid(a)\n",
    "    return a ^ (BASE - 1)\n",
    "\n",
    "def bor(a, b):\n",
    "    _valid(a)\n",
    "    _valid(b)\n",
    "    return a | b\n",
    "\n",
    "def lt(a, b):\n",
    "    _valid(a)\n",
    "    _valid(b)\n",
    "    return 1 if a < b else 0\n",
    "\n",
    "def shl(a, b):\n",
    "    _valid(a)\n",
    "    _valid(b)\n",
    "    return (b << a) % BASE\n",
    "\n",
    "def shr(a, b):\n",
    "    _valid(a)\n",
    "    _valid(b)\n",
    "    return (b >> a) % BASE\n",
    "\n",
    "def sar(a, b):\n",
    "    _valid(a)\n",
    "    _valid(b)\n",
    "    if b >= SIGN:\n",
    "        b = BASE - b\n",
    "        b >>= a\n",
    "        b = BASE - max(b, 1)\n",
    "        return b\n",
    "    else:\n",
    "        return (b >> a) % BASE\n",
    "\n",
    "def add(a, b):\n",
    "    _valid(a)\n",
    "    _valid(b)\n",
    "    return (a + b) % BASE\n",
    "\n",
    "def sub(a, b):\n",
    "    _valid(a)\n",
    "    _valid(b)\n",
    "    return (a - b) % BASE\n",
    "\n",
    "def mul(a, b):\n",
    "    _valid(a)\n",
    "    _valid(b)\n",
    "    return (a * b) % BASE\n",
    "\n",
    "def div(a, b):\n",
    "    _valid(a)\n",
    "    _valid(b)\n",
    "    return a // b\n",
    "\n",
    "def sdiv(a, b):\n",
    "    _valid(a)\n",
    "    _valid(b)\n",
    "    r = _abs(a) // _abs(b)\n",
    "    assert r >= 0 and r < SIGN\n",
    "    if r > 0 and ((a >= SIGN) ^ (b >= SIGN)):\n",
    "        r = BASE - r\n",
    "    assert r >= 0 and r < BASE    \n",
    "    return r\n",
    "\n",
    "def mod(a, b):\n",
    "    _valid(a)\n",
    "    _valid(b)\n",
    "    return (a % b) % BASE\n",
    "\n",
    "def smod(a, b):\n",
    "    _valid(a)\n",
    "    _valid(b)\n",
    "    if b >= SIGN:\n",
    "        b = BASE - b\n",
    "    if a < SIGN:\n",
    "        return (a % b) % BASE\n",
    "    else:\n",
    "        a = BASE - a\n",
    "        return BASE - ((a % b) % BASE)\n",
    "\n",
    "def mulmod(a, b, c):\n",
    "    _valid(a)\n",
    "    _valid(b)\n",
    "    _valid(c)\n",
    "    return ((a * b) % c) % BASE"
   ]
  },
  {
   "cell_type": "code",
   "execution_count": null,
   "metadata": {},
   "outputs": [],
   "source": []
  },
  {
   "cell_type": "code",
   "execution_count": null,
   "metadata": {},
   "outputs": [],
   "source": []
  },
  {
   "cell_type": "markdown",
   "metadata": {},
   "source": [
    "## Ground truth"
   ]
  },
  {
   "cell_type": "code",
   "execution_count": null,
   "metadata": {},
   "outputs": [],
   "source": [
    "PRECISION = 1024 # Bits\n",
    "mp.prec = PRECISION"
   ]
  },
  {
   "cell_type": "code",
   "execution_count": null,
   "metadata": {},
   "outputs": [],
   "source": [
    "MP_FIX_1 = mp.mpf(0x0000000000000000000000000000000080000000000000000000000000000000)"
   ]
  },
  {
   "cell_type": "code",
   "execution_count": null,
   "metadata": {},
   "outputs": [],
   "source": [
    "def fix_to_mp(x):\n",
    "    _valid(x)\n",
    "    if x < 2**255:\n",
    "        return mp.mpf(x) / MP_FIX_1\n",
    "    else:\n",
    "        x = 2**256 - x\n",
    "        return -mp.mpf(x) / MP_FIX_1"
   ]
  },
  {
   "cell_type": "code",
   "execution_count": null,
   "metadata": {},
   "outputs": [],
   "source": [
    "def fix_to_f(x):\n",
    "    return float(fix_to_mp(x))"
   ]
  },
  {
   "cell_type": "code",
   "execution_count": null,
   "metadata": {},
   "outputs": [],
   "source": [
    "def mp_to_fix(x):\n",
    "    # Closest approximation, clamping to MIN and MAX representable values, NaN maps to positive infinite\n",
    "    if mp.isnan(x):\n",
    "        return SIGN - 1\n",
    "    if x >= 0:\n",
    "        if x >= SIGN:\n",
    "            return SIGN - 1\n",
    "        x = int(mp.nint(x * MP_FIX_1))\n",
    "    else:\n",
    "        if -x > SIGN:\n",
    "            return SIGN\n",
    "        x = 2**256 - int(mp.nint(-x * MP_FIX_1))\n",
    "    _valid(x)\n",
    "    return x"
   ]
  },
  {
   "cell_type": "code",
   "execution_count": null,
   "metadata": {},
   "outputs": [],
   "source": [
    "def fmul(a, b):\n",
    "    return bf_to_fix(fix_to_mp(a) * fix_to_mp(b))"
   ]
  },
  {
   "cell_type": "code",
   "execution_count": null,
   "metadata": {},
   "outputs": [],
   "source": [
    "def mp_log1(x):\n",
    "    return mp_to_fix(mp.log(fix_to_mp(x)))"
   ]
  },
  {
   "cell_type": "code",
   "execution_count": null,
   "metadata": {},
   "outputs": [],
   "source": [
    "def mp_ln(x):\n",
    "    return mp_to_fix(mp.log(fix_to_mp(x)))"
   ]
  },
  {
   "cell_type": "code",
   "execution_count": null,
   "metadata": {},
   "outputs": [],
   "source": [
    "def mp_exp(x):\n",
    "    return mp_to_fix(mp.exp(fix_to_mp(x)))"
   ]
  },
  {
   "cell_type": "code",
   "execution_count": null,
   "metadata": {},
   "outputs": [],
   "source": []
  },
  {
   "cell_type": "markdown",
   "metadata": {},
   "source": [
    "## Cheby generator"
   ]
  },
  {
   "cell_type": "code",
   "execution_count": null,
   "metadata": {},
   "outputs": [],
   "source": [
    "def chebyfun(f, domain, degree=11):\n",
    "    start, end = domain\n",
    "    start = mp.mpf(start)\n",
    "    end = mp.mpf(end)\n",
    "    mid = start + (end - start) / 2\n",
    "    \n",
    "    # To make the polynomial evaluate nicely, we center x around zero using an offset CENTER\n",
    "    # Alternatively we could use Clenshaw's algorithm\n",
    "    # TODO: Centering helps a lot, what about scaling?\n",
    "    coeffs = [mp_to_fix(x) for x in (mp.chebyfit(lambda x: f(x + mid), [start - mid, end - mid], degree))]\n",
    "    mid = mp_to_fix(mid)\n",
    "        \n",
    "    # Solidity function\n",
    "    def func(x):\n",
    "        nonlocal coeffs\n",
    "        x = sub(x, mid)\n",
    "        r = coeffs[0]\n",
    "        for coeff in coeffs[1:]:\n",
    "            # r = (r * x >> 127) + coeff\n",
    "            r = mul(r, x)\n",
    "            r = sar(127, r)\n",
    "            r = add(r, coeff)\n",
    "        return r\n",
    "    \n",
    "    # Plot error\n",
    "    x = intrange(mp_to_fix(start), mp_to_fix(end), num = 10000)\n",
    "    xr = [fix_to_f(x) for x in x]\n",
    "    y = np.array([mp_to_fix(f(fix_to_mp(x))) for x in x])\n",
    "    yr = np.array([fix_to_f(y) for y in y])\n",
    "    fy = np.array([func(x) for x in x])\n",
    "    fyr = np.array([fix_to_f(y) for y in fy])\n",
    "    plt.title('Error over domain')\n",
    "    plt.xlabel(\"$x$\")\n",
    "    plt.ylabel(\"$\\\\log_2 \\\\vert f(x) - r \\\\vert$\")\n",
    "    plt.plot(xr, (fy - y).astype(float))\n",
    "    error_fix = max(abs(fy - y))\n",
    "    error_bits = max(np.log2(abs(fy - y).astype(float)))\n",
    "    \n",
    "    # Print Solidity\n",
    "    print('// Chebyshev approximation on ({:.4g}, {:.4g}) deg {}.'.format(float(start), float(end), degree))\n",
    "    print('// Max observed error {:.2g}, last {:.2g} bits.'.format(fix_to_f(error_fix), error_bits))\n",
    "    if mid < SIGN:\n",
    "        print('x -= 0x{:x}; // {:.3g}'.format(mid, fix_to_f(mid)))\n",
    "    else:\n",
    "        print('x += 0x{:x}; // {:.3g}'.format(BASE - mid, fix_to_f(mid)))\n",
    "    if coeffs[0] < SIGN:\n",
    "        print('int256 r = 0x{:x}; // {:.3g}'.format(coeffs[0], fix_to_f(coeffs[0])))\n",
    "    else:\n",
    "        print('int256 r = -0x{:x}; // {:.3g}'.format(BASE - coeffs[0], fix_to_f(coeffs[0])))\n",
    "    for x in coeffs:\n",
    "        if x < SIGN:\n",
    "            print('r = ((r * x) >> 127) + 0x{:x}; // {:.3g}'.format(x, fix_to_f(x)))\n",
    "        else:\n",
    "            print('r = ((r * x) >> 127) - 0x{:x}; // {:.3g}'.format(BASE - x, fix_to_f(x)))\n",
    "\n",
    "\n",
    "    return func"
   ]
  },
  {
   "cell_type": "code",
   "execution_count": null,
   "metadata": {},
   "outputs": [],
   "source": [
    "interact(lambda d:chebyfun(lambda x: mp.log(x), (0.8825, 0.99999999), degree=d), d=11)"
   ]
  },
  {
   "cell_type": "code",
   "execution_count": null,
   "metadata": {},
   "outputs": [],
   "source": [
    "my_log1 = chebyfun(mp.log, (0.8825, 0.99999999), degree=11)"
   ]
  },
  {
   "cell_type": "code",
   "execution_count": null,
   "metadata": {},
   "outputs": [],
   "source": [
    "my_exp = chebyfun(mp.exp, (0.0, 0.125), degree=17)"
   ]
  },
  {
   "cell_type": "code",
   "execution_count": null,
   "metadata": {},
   "outputs": [],
   "source": []
  },
  {
   "cell_type": "code",
   "execution_count": null,
   "metadata": {},
   "outputs": [],
   "source": [
    "def chebyshev_nodes(domain, n):\n",
    "    start, end = domain\n",
    "    start = mp.mpf(start)\n",
    "    end = mp.mpf(end)\n",
    "    mid = (start + end) / 2\n",
    "    amp = (end - start) / 2\n",
    "    xs = []\n",
    "    for i in range(n):\n",
    "        f = mp.mpf(2 * i + 1) / mp.mpf(2 * n)\n",
    "        xs += [mid - amp * mp.cos(mp.pi * f)]\n",
    "    return xs"
   ]
  },
  {
   "cell_type": "code",
   "execution_count": null,
   "metadata": {},
   "outputs": [],
   "source": [
    "def least_squares(A, b):\n",
    "    U, S, V = mp.svd_r(A)\n",
    "    for i in range(len(S)):\n",
    "        if S[i] != 0:\n",
    "            S[i] = mp.one / S[i]\n",
    "    return V.T * mp.diag(S) * U.T * b"
   ]
  },
  {
   "cell_type": "code",
   "execution_count": null,
   "metadata": {},
   "outputs": [],
   "source": [
    "def vandermonde(x, n):\n",
    "    A = mp.matrix(len(x), n)\n",
    "    for i, x in enumerate(x):\n",
    "        r = mp.one\n",
    "        for j in range(n):\n",
    "            A[i, j] = r\n",
    "            r *= x\n",
    "    return A"
   ]
  },
  {
   "cell_type": "code",
   "execution_count": null,
   "metadata": {},
   "outputs": [],
   "source": [
    "f = lambda x: mp.exp(x + 0.0625)\n",
    "d = (0.0 - 0.0625, 0.125 - 0.0625)\n",
    "x = chebyshev_nodes(d, 17)\n",
    "y = mp.matrix([f(x) for x in x])\n",
    "c = least_squares(vandermonde(x, 17), y)\n",
    "[hex(mp_to_fix(c)) for c in c]"
   ]
  },
  {
   "cell_type": "code",
   "execution_count": null,
   "metadata": {},
   "outputs": [],
   "source": [
    "def extrema(domain, f, c, derivative=None):\n",
    "    # If no derivative of f is provided, produce one numerically\n",
    "    if derivative is None:\n",
    "        derivative = lambda x: mp.diff(f, x)\n",
    "    \n",
    "    # Create a derivative of the polynomial\n",
    "    c = reversed([c for i, c in enumerate(c[0:-1:-1])])\n",
    "    \n",
    "    # Find extrema in the domain\n",
    "    f = lambda x: polyval(c, x) - derivative(x)\n",
    "    "
   ]
  },
  {
   "cell_type": "code",
   "execution_count": null,
   "metadata": {},
   "outputs": [],
   "source": [
    "def remez(x, n):\n",
    "    A = mp.matrix(len(x), n + 1)\n",
    "    for i, x in enumerate(x):\n",
    "        r = mp.one\n",
    "        for j in range(n):\n",
    "            A[i, j] = r\n",
    "            r *= x\n",
    "        A[i, n] = mp.one if i % 2 == 0 else -mp.one\n",
    "    return A"
   ]
  },
  {
   "cell_type": "code",
   "execution_count": null,
   "metadata": {},
   "outputs": [],
   "source": [
    "c = least_squares(remez(x, 17), y)\n",
    "print(c)\n",
    "[hex(mp_to_fix(c)) for c in c]"
   ]
  },
  {
   "cell_type": "code",
   "execution_count": null,
   "metadata": {},
   "outputs": [],
   "source": []
  },
  {
   "cell_type": "code",
   "execution_count": null,
   "metadata": {},
   "outputs": [],
   "source": []
  },
  {
   "cell_type": "code",
   "execution_count": null,
   "metadata": {},
   "outputs": [],
   "source": []
  },
  {
   "cell_type": "markdown",
   "metadata": {},
   "source": [
    "## LibFixMath\n",
    "\n",
    "**TODO.** LibFixedMath uses signed int, not unsigned"
   ]
  },
  {
   "cell_type": "code",
   "execution_count": null,
   "metadata": {},
   "outputs": [],
   "source": [
    "FIXED_1 = 0x0000000000000000000000000000000080000000000000000000000000000000\n",
    "MANTISA_MASK = 0x7fffffffffffffffffffffffffffffff\n",
    "LN_MIN_VAL = 0x0000000000000000000000000000000000000000000000000000000733048c5a\n",
    "LN_MAX_VAL = FIXED_1\n",
    "EXP_MIN_VAL = BASE - 0x0000000000000000000000000000001ff0000000000000000000000000000000"
   ]
  },
  {
   "cell_type": "code",
   "execution_count": null,
   "metadata": {},
   "outputs": [],
   "source": [
    "def lib_toInteger(x):\n",
    "    return div(x, FIXED_1)"
   ]
  },
  {
   "cell_type": "code",
   "execution_count": null,
   "metadata": {},
   "outputs": [],
   "source": [
    "def lib_toMantissa(x):\n",
    "    if x > 0:\n",
    "        return x & MANTISSA_MASK"
   ]
  },
  {
   "cell_type": "code",
   "execution_count": null,
   "metadata": {},
   "outputs": [],
   "source": [
    "def lib_mul(a, b):\n",
    "    aI = lib_toInteger(a)\n",
    "    aM = lib_toMantissa(a)\n",
    "    aI = lib_toInteger(b)\n",
    "    aM = lib_toMantissa(b)\n",
    "    \n",
    "    integerPart = mul(FIXED_1, mul(aI, bI))"
   ]
  },
  {
   "cell_type": "code",
   "execution_count": null,
   "metadata": {},
   "outputs": [],
   "source": [
    "def lib_log1(x):\n",
    "    # Valid over range ~0.87 - 1.0\n",
    "    r = 0\n",
    "    y = sub(x, FIXED_1)\n",
    "    z = y\n",
    "    w = sdiv(mul(y, y), FIXED_1)\n",
    "    r = add(r, sdiv(mul(z, sub(0x100000000000000000000000000000000, y)), 0x100000000000000000000000000000000))\n",
    "    z = sdiv(mul(z, w), FIXED_1)\n",
    "    r = add(r, sdiv(mul(z, sub(0x0aaaaaaaaaaaaaaaaaaaaaaaaaaaaaaaa, y)), 0x200000000000000000000000000000000))\n",
    "    z = sdiv(mul(z, w), FIXED_1)\n",
    "    r = add(r, sdiv(mul(z, sub(0x099999999999999999999999999999999, y)), 0x300000000000000000000000000000000))\n",
    "    z = sdiv(mul(z, w), FIXED_1)\n",
    "    r = add(r, sdiv(mul(z, sub(0x092492492492492492492492492492492, y)), 0x400000000000000000000000000000000))\n",
    "    z = sdiv(mul(z, w), FIXED_1)\n",
    "    r = add(r, sdiv(mul(z, sub(0x08e38e38e38e38e38e38e38e38e38e38e, y)), 0x500000000000000000000000000000000))\n",
    "    z = sdiv(mul(z, w), FIXED_1)\n",
    "    r = add(r, sdiv(mul(z, sub(0x08ba2e8ba2e8ba2e8ba2e8ba2e8ba2e8b, y)), 0x600000000000000000000000000000000))\n",
    "    z = sdiv(mul(z, w), FIXED_1)\n",
    "    r = add(r, sdiv(mul(z, sub(0x089d89d89d89d89d89d89d89d89d89d89, y)), 0x700000000000000000000000000000000))\n",
    "    z = sdiv(mul(z, w), FIXED_1)\n",
    "    r = add(r, sdiv(mul(z, sub(0x088888888888888888888888888888888, y)), 0x800000000000000000000000000000000))\n",
    "    return r"
   ]
  },
  {
   "cell_type": "code",
   "execution_count": null,
   "metadata": {},
   "outputs": [],
   "source": []
  },
  {
   "cell_type": "code",
   "execution_count": null,
   "metadata": {},
   "outputs": [],
   "source": []
  },
  {
   "cell_type": "code",
   "execution_count": null,
   "metadata": {},
   "outputs": [],
   "source": [
    "t = []\n",
    "def lib_ln(x, reductions='old', log='old'):\n",
    "    global t\n",
    "    _valid(x)\n",
    "    if x > LN_MAX_VAL:\n",
    "        raise \"ln: value too large\"\n",
    "    if x == 0 or x >= SIGN:\n",
    "        raise \"ln: value too small\"\n",
    "    if x == FIXED_1:\n",
    "        return 0\n",
    "    if x <= LN_MIN_VAL:\n",
    "        return EXP_MIN_VAL\n",
    "    \n",
    "    r = 0\n",
    "    y = 0\n",
    "    z = 0\n",
    "    w = 0\n",
    "    \n",
    "    old_values = [\n",
    "        0x00000000000000000000000000000000000000000001c8464f76164760000000,\n",
    "        0x00000000000000000000000000000000000000f1aaddd7742e90000000000000,\n",
    "        0x00000000000000000000000000000000000afe10820813d78000000000000000,\n",
    "        0x0000000000000000000000000000000002582ab704279ec00000000000000000,\n",
    "        0x000000000000000000000000000000001152aaa3bf81cc000000000000000000,\n",
    "        0x000000000000000000000000000000002f16ac6c59de70000000000000000000,\n",
    "        0x000000000000000000000000000000004da2cbf1be5828000000000000000000,\n",
    "        0x0000000000000000000000000000000063afbe7ab2082c000000000000000000,\n",
    "        0x0000000000000000000000000000000070f5a893b608861e1f58934f97aea57d,\n",
    "    ]\n",
    "    new_values = [\n",
    "        0x1c8464f76164681e299a0,\n",
    "        0xf1aaddd7742e56d32fb9f99744,\n",
    "        0xafe10820813d65dfe6a33c07f738f,\n",
    "        0x2582ab704279e8efd15e0265855c47b,\n",
    "        0x1152aaa3bf81cb9fdb76eae12d029572,\n",
    "        0x2f16ac6c59de6f8d5d6f63c1482a7c87,\n",
    "        0x4da2cbf1be5827f9eb3ad1aa9866ebb4,\n",
    "        0x63afbe7ab2082ba1a0ae5e4eb1b479dd,\n",
    "        0x70f5a893b608861e1f58934f97aea57d,\n",
    "    ]\n",
    "    reduction_values = old_values if reductions == 'old' else new_values\n",
    "    for i, v in enumerate(reduction_values):\n",
    "        if x <= v:\n",
    "            r = sub(r, 0x0000000000000000000000000000001000000000000000000000000000000000 >> i)\n",
    "            x = sdiv(mul(x, FIXED_1), v)\n",
    "    \n",
    "    t += [x]\n",
    "    if log == 'new':\n",
    "        return add(r, my_log1(x))\n",
    "    \n",
    "    y = sub(x, FIXED_1)\n",
    "    z = y\n",
    "    w = sdiv(mul(y, y), FIXED_1)\n",
    "    r = add(r, sdiv(mul(z, sub(0x100000000000000000000000000000000, y)), 0x100000000000000000000000000000000))\n",
    "    z = sdiv(mul(z, w), FIXED_1)\n",
    "    r = add(r, sdiv(mul(z, sub(0x0aaaaaaaaaaaaaaaaaaaaaaaaaaaaaaaa, y)), 0x200000000000000000000000000000000))\n",
    "    z = sdiv(mul(z, w), FIXED_1)\n",
    "    r = add(r, sdiv(mul(z, sub(0x099999999999999999999999999999999, y)), 0x300000000000000000000000000000000))\n",
    "    z = sdiv(mul(z, w), FIXED_1)\n",
    "    r = add(r, sdiv(mul(z, sub(0x092492492492492492492492492492492, y)), 0x400000000000000000000000000000000))\n",
    "    z = sdiv(mul(z, w), FIXED_1)\n",
    "    r = add(r, sdiv(mul(z, sub(0x08e38e38e38e38e38e38e38e38e38e38e, y)), 0x500000000000000000000000000000000))\n",
    "    z = sdiv(mul(z, w), FIXED_1)\n",
    "    r = add(r, sdiv(mul(z, sub(0x08ba2e8ba2e8ba2e8ba2e8ba2e8ba2e8b, y)), 0x600000000000000000000000000000000))\n",
    "    z = sdiv(mul(z, w), FIXED_1)\n",
    "    r = add(r, sdiv(mul(z, sub(0x089d89d89d89d89d89d89d89d89d89d89, y)), 0x700000000000000000000000000000000))\n",
    "    z = sdiv(mul(z, w), FIXED_1)\n",
    "    r = add(r, sdiv(mul(z, sub(0x088888888888888888888888888888888, y)), 0x800000000000000000000000000000000))\n",
    "    \n",
    "    return r"
   ]
  },
  {
   "cell_type": "code",
   "execution_count": null,
   "metadata": {},
   "outputs": [],
   "source": [
    "for i in range(-3,6):\n",
    "    print(2**i)\n",
    "    print(hex( mp_to_fix( mp.exp(-mp.mpf(2) ** (i)) )))"
   ]
  },
  {
   "cell_type": "code",
   "execution_count": null,
   "metadata": {},
   "outputs": [],
   "source": [
    "def my_mul(a, b):\n",
    "    mm = mulmod(a, b, bnot(0))\n",
    "    r0 = mul(a, b)\n",
    "    r1 = sub(sub(mm, r0), lt(mm, r0))\n",
    "    r1 = add(r1, mul(sar(256, a), b))\n",
    "    r1 = add(r1, mul(sar(256, b), a))\n",
    "    r = bor(shl(129, r1), shr(127, r0))\n",
    "    return r"
   ]
  },
  {
   "cell_type": "code",
   "execution_count": null,
   "metadata": {},
   "outputs": [],
   "source": [
    "a = 2617556668622594272776707985386330127\n",
    "b = BASE - 130444458470968929913751441309200329514"
   ]
  },
  {
   "cell_type": "code",
   "execution_count": null,
   "metadata": {},
   "outputs": [],
   "source": [
    "fix_to_f(a)"
   ]
  },
  {
   "cell_type": "code",
   "execution_count": null,
   "metadata": {},
   "outputs": [],
   "source": [
    "fix_to_f(b)"
   ]
  },
  {
   "cell_type": "code",
   "execution_count": null,
   "metadata": {},
   "outputs": [],
   "source": [
    "d = my_mul(a, b)\n",
    "d"
   ]
  },
  {
   "cell_type": "code",
   "execution_count": null,
   "metadata": {},
   "outputs": [],
   "source": [
    "fix_to_f(d)"
   ]
  },
  {
   "cell_type": "code",
   "execution_count": null,
   "metadata": {},
   "outputs": [],
   "source": [
    "0.01538461538461533 * -0.7666836201434823"
   ]
  },
  {
   "cell_type": "code",
   "execution_count": null,
   "metadata": {},
   "outputs": [],
   "source": [
    "hex(sar(256, mp_to_fix(-2)))"
   ]
  },
  {
   "cell_type": "code",
   "execution_count": null,
   "metadata": {},
   "outputs": [],
   "source": []
  },
  {
   "cell_type": "code",
   "execution_count": null,
   "metadata": {},
   "outputs": [],
   "source": []
  },
  {
   "cell_type": "code",
   "execution_count": null,
   "metadata": {},
   "outputs": [],
   "source": []
  },
  {
   "cell_type": "markdown",
   "metadata": {},
   "source": [
    "# Evaluate"
   ]
  },
  {
   "cell_type": "code",
   "execution_count": null,
   "metadata": {},
   "outputs": [],
   "source": [
    "x = intrange(mp_to_fix(0.875), mp_to_fix(1.0), num = 10000)\n",
    "xr = [fix_to_f(x) for x in x]"
   ]
  },
  {
   "cell_type": "code",
   "execution_count": null,
   "metadata": {},
   "outputs": [],
   "source": [
    "def fix_exp(x):\n",
    "    return x.pow(1/(1-x))"
   ]
  },
  {
   "cell_type": "code",
   "execution_count": null,
   "metadata": {},
   "outputs": [],
   "source": [
    "y = np.array([fix_exp(x) for x in x])\n",
    "yr = np.array([fix_to_f(y) for y in y])"
   ]
  },
  {
   "cell_type": "markdown",
   "metadata": {},
   "source": [
    "### Log(1 + z)"
   ]
  },
  {
   "cell_type": "code",
   "execution_count": null,
   "metadata": {},
   "outputs": [],
   "source": [
    "x = intrange(mp_to_fix(0.875), mp_to_fix(1.0), num = 10000)\n",
    "xr = [fix_to_f(x) for x in x]"
   ]
  },
  {
   "cell_type": "code",
   "execution_count": null,
   "metadata": {},
   "outputs": [],
   "source": [
    "y = np.array([mp_log1(x) for x in x])\n",
    "yr = np.array([fix_to_f(y) for y in y])"
   ]
  },
  {
   "cell_type": "code",
   "execution_count": null,
   "metadata": {},
   "outputs": [],
   "source": [
    "ly = np.array([lib_log1(x) for x in x])\n",
    "lyr = np.array([fix_to_f(y) for y in ly])"
   ]
  },
  {
   "cell_type": "code",
   "execution_count": null,
   "metadata": {},
   "outputs": [],
   "source": [
    "my = np.array([my_log1(x) for x in x])\n",
    "myr = np.array([fix_to_f(y) for y in my])"
   ]
  },
  {
   "cell_type": "code",
   "execution_count": null,
   "metadata": {},
   "outputs": [],
   "source": [
    "plt.plot(xr, yr)\n",
    "plt.plot(xr, lyr)\n",
    "plt.plot(xr, myr)"
   ]
  },
  {
   "cell_type": "code",
   "execution_count": null,
   "metadata": {},
   "outputs": [],
   "source": [
    "plt.plot(xr, np.log2(abs(ly - y).astype(float)))\n",
    "plt.plot(xr, np.log2(abs(my - y).astype(float)))"
   ]
  },
  {
   "cell_type": "markdown",
   "metadata": {},
   "source": [
    "### Exp(x)"
   ]
  },
  {
   "cell_type": "code",
   "execution_count": null,
   "metadata": {},
   "outputs": [],
   "source": [
    "x = intrange(mp_to_fix(0.0), mp_to_fix(0.125), num = 10000)\n",
    "xr = [fix_to_f(x) for x in x]"
   ]
  },
  {
   "cell_type": "code",
   "execution_count": null,
   "metadata": {},
   "outputs": [],
   "source": [
    "y = np.array([mp_exp(x) for x in x])\n",
    "yr = np.array([fix_to_f(y) for y in y])"
   ]
  },
  {
   "cell_type": "code",
   "execution_count": null,
   "metadata": {},
   "outputs": [],
   "source": [
    "my = np.array([my_exp(x) for x in x])\n",
    "myr = np.array([fix_to_f(y) for y in my])"
   ]
  },
  {
   "cell_type": "code",
   "execution_count": null,
   "metadata": {},
   "outputs": [],
   "source": [
    "plt.plot(xr, yr)\n",
    "plt.plot(xr, myr)"
   ]
  },
  {
   "cell_type": "code",
   "execution_count": null,
   "metadata": {},
   "outputs": [],
   "source": [
    "plt.plot(xr, np.log2(abs(my - y).astype(float)))"
   ]
  },
  {
   "cell_type": "markdown",
   "metadata": {},
   "source": [
    "### Ln(x)"
   ]
  },
  {
   "cell_type": "code",
   "execution_count": null,
   "metadata": {},
   "outputs": [],
   "source": [
    "t = []"
   ]
  },
  {
   "cell_type": "code",
   "execution_count": null,
   "metadata": {},
   "outputs": [],
   "source": [
    "x = intrange(LN_MIN_VAL, LN_MAX_VAL, num = 10000)\n",
    "xr = [fix_to_f(x) for x in x]"
   ]
  },
  {
   "cell_type": "code",
   "execution_count": null,
   "metadata": {},
   "outputs": [],
   "source": [
    "y = np.array([mp_ln(x) for x in x])\n",
    "yr = np.array([fix_to_f(y) for y in y])"
   ]
  },
  {
   "cell_type": "code",
   "execution_count": null,
   "metadata": {},
   "outputs": [],
   "source": [
    "ly = np.array([lib_ln(x) for x in x])\n",
    "lyr = np.array([fix_to_f(y) for y in ly])"
   ]
  },
  {
   "cell_type": "code",
   "execution_count": null,
   "metadata": {},
   "outputs": [],
   "source": [
    "lz = np.array([lib_ln(x, reductions='new', log='new') for x in x])\n",
    "lzr = np.array([fix_to_f(z) for z in lz])"
   ]
  },
  {
   "cell_type": "code",
   "execution_count": null,
   "metadata": {},
   "outputs": [],
   "source": [
    "plt.plot(xr, yr)\n",
    "plt.plot(xr, lyr)\n",
    "plt.plot(xr, lzr)"
   ]
  },
  {
   "cell_type": "code",
   "execution_count": null,
   "metadata": {},
   "outputs": [],
   "source": [
    "plt.plot(xr, np.log2(abs(ly - y).astype(float)))\n",
    "plt.plot(xr, np.log2(abs(lz - y).astype(float)))"
   ]
  },
  {
   "cell_type": "code",
   "execution_count": null,
   "metadata": {},
   "outputs": [],
   "source": [
    "(fix_to_f(min(t)), fix_to_f(max(t)))"
   ]
  },
  {
   "cell_type": "code",
   "execution_count": null,
   "metadata": {},
   "outputs": [],
   "source": [
    "plt.plot([fix_to_f(t) for t in t])"
   ]
  },
  {
   "cell_type": "code",
   "execution_count": null,
   "metadata": {},
   "outputs": [],
   "source": []
  },
  {
   "cell_type": "code",
   "execution_count": null,
   "metadata": {},
   "outputs": [],
   "source": []
  },
  {
   "cell_type": "code",
   "execution_count": null,
   "metadata": {},
   "outputs": [],
   "source": []
  },
  {
   "cell_type": "code",
   "execution_count": null,
   "metadata": {},
   "outputs": [],
   "source": []
  },
  {
   "cell_type": "code",
   "execution_count": null,
   "metadata": {},
   "outputs": [],
   "source": []
  },
  {
   "cell_type": "code",
   "execution_count": null,
   "metadata": {},
   "outputs": [],
   "source": []
  },
  {
   "cell_type": "code",
   "execution_count": null,
   "metadata": {},
   "outputs": [],
   "source": []
  },
  {
   "cell_type": "code",
   "execution_count": null,
   "metadata": {},
   "outputs": [],
   "source": []
  },
  {
   "cell_type": "code",
   "execution_count": null,
   "metadata": {},
   "outputs": [],
   "source": []
  }
 ],
 "metadata": {
  "kernelspec": {
   "display_name": "Python 3 (ipykernel)",
   "language": "python",
   "name": "python3"
  },
  "language_info": {
   "codemirror_mode": {
    "name": "ipython",
    "version": 3
   },
   "file_extension": ".py",
   "mimetype": "text/x-python",
   "name": "python",
   "nbconvert_exporter": "python",
   "pygments_lexer": "ipython3",
   "version": "3.9.10"
  }
 },
 "nbformat": 4,
 "nbformat_minor": 4
}
