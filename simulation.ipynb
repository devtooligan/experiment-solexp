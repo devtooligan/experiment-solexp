{
 "cells": [
  {
   "cell_type": "markdown",
   "metadata": {},
   "source": [
    "# Simulation"
   ]
  },
  {
   "cell_type": "markdown",
   "metadata": {
    "tags": []
   },
   "source": [
    "## Prelude"
   ]
  },
  {
   "cell_type": "code",
   "execution_count": 699,
   "metadata": {},
   "outputs": [
    {
     "name": "stdout",
     "output_type": "stream",
     "text": [
      "\u001b[33mDEPRECATION: Configuring installation scheme with distutils config files is deprecated and will no longer work in the near future. If you are using a Homebrew or Linuxbrew Python, please see discussion at https://github.com/Homebrew/homebrew-core/issues/76621\u001b[0m\u001b[33m\n",
      "\u001b[0mRequirement already satisfied: matplotlib in /opt/homebrew/lib/python3.9/site-packages (3.5.1)\n",
      "Requirement already satisfied: numpy in /opt/homebrew/lib/python3.9/site-packages (1.22.2)\n",
      "Requirement already satisfied: mpmath in /opt/homebrew/lib/python3.9/site-packages (1.2.1)\n",
      "Requirement already satisfied: watermark in /opt/homebrew/lib/python3.9/site-packages (2.3.0)\n",
      "Requirement already satisfied: packaging>=20.0 in /opt/homebrew/lib/python3.9/site-packages (from matplotlib) (21.3)\n",
      "Requirement already satisfied: kiwisolver>=1.0.1 in /opt/homebrew/lib/python3.9/site-packages (from matplotlib) (1.3.2)\n",
      "Requirement already satisfied: pyparsing>=2.2.1 in /opt/homebrew/lib/python3.9/site-packages (from matplotlib) (3.0.7)\n",
      "Requirement already satisfied: pillow>=6.2.0 in /opt/homebrew/lib/python3.9/site-packages (from matplotlib) (9.0.1)\n",
      "Requirement already satisfied: python-dateutil>=2.7 in /opt/homebrew/lib/python3.9/site-packages (from matplotlib) (2.8.2)\n",
      "Requirement already satisfied: fonttools>=4.22.0 in /opt/homebrew/lib/python3.9/site-packages (from matplotlib) (4.29.1)\n",
      "Requirement already satisfied: cycler>=0.10 in /opt/homebrew/lib/python3.9/site-packages (from matplotlib) (0.11.0)\n",
      "Requirement already satisfied: ipython in /opt/homebrew/lib/python3.9/site-packages (from watermark) (8.1.1)\n",
      "Requirement already satisfied: six>=1.5 in /opt/homebrew/lib/python3.9/site-packages (from python-dateutil>=2.7->matplotlib) (1.16.0)\n",
      "Requirement already satisfied: stack-data in /opt/homebrew/lib/python3.9/site-packages (from ipython->watermark) (0.2.0)\n",
      "Requirement already satisfied: prompt-toolkit!=3.0.0,!=3.0.1,<3.1.0,>=2.0.0 in /opt/homebrew/lib/python3.9/site-packages (from ipython->watermark) (3.0.28)\n",
      "Requirement already satisfied: pexpect>4.3 in /opt/homebrew/lib/python3.9/site-packages (from ipython->watermark) (4.8.0)\n",
      "Requirement already satisfied: matplotlib-inline in /opt/homebrew/lib/python3.9/site-packages (from ipython->watermark) (0.1.3)\n",
      "Requirement already satisfied: traitlets>=5 in /opt/homebrew/lib/python3.9/site-packages (from ipython->watermark) (5.1.1)\n",
      "Requirement already satisfied: setuptools>=18.5 in /opt/homebrew/lib/python3.9/site-packages (from ipython->watermark) (60.9.3)\n",
      "Requirement already satisfied: pygments>=2.4.0 in /opt/homebrew/lib/python3.9/site-packages (from ipython->watermark) (2.11.2)\n",
      "Requirement already satisfied: backcall in /opt/homebrew/lib/python3.9/site-packages (from ipython->watermark) (0.2.0)\n",
      "Requirement already satisfied: pickleshare in /opt/homebrew/lib/python3.9/site-packages (from ipython->watermark) (0.7.5)\n",
      "Requirement already satisfied: decorator in /opt/homebrew/lib/python3.9/site-packages (from ipython->watermark) (5.1.1)\n",
      "Requirement already satisfied: jedi>=0.16 in /opt/homebrew/lib/python3.9/site-packages (from ipython->watermark) (0.18.1)\n",
      "Requirement already satisfied: appnope in /opt/homebrew/lib/python3.9/site-packages (from ipython->watermark) (0.1.2)\n",
      "Requirement already satisfied: parso<0.9.0,>=0.8.0 in /opt/homebrew/lib/python3.9/site-packages (from jedi>=0.16->ipython->watermark) (0.8.3)\n",
      "Requirement already satisfied: ptyprocess>=0.5 in /opt/homebrew/lib/python3.9/site-packages (from pexpect>4.3->ipython->watermark) (0.7.0)\n",
      "Requirement already satisfied: wcwidth in /opt/homebrew/lib/python3.9/site-packages (from prompt-toolkit!=3.0.0,!=3.0.1,<3.1.0,>=2.0.0->ipython->watermark) (0.2.5)\n",
      "Requirement already satisfied: pure-eval in /opt/homebrew/lib/python3.9/site-packages (from stack-data->ipython->watermark) (0.2.2)\n",
      "Requirement already satisfied: asttokens in /opt/homebrew/lib/python3.9/site-packages (from stack-data->ipython->watermark) (2.0.5)\n",
      "Requirement already satisfied: executing in /opt/homebrew/lib/python3.9/site-packages (from stack-data->ipython->watermark) (0.8.3)\n",
      "\u001b[33mDEPRECATION: Configuring installation scheme with distutils config files is deprecated and will no longer work in the near future. If you are using a Homebrew or Linuxbrew Python, please see discussion at https://github.com/Homebrew/homebrew-core/issues/76621\u001b[0m\u001b[33m\n",
      "\u001b[0m"
     ]
    }
   ],
   "source": [
    "!pip install matplotlib numpy mpmath watermark"
   ]
  },
  {
   "cell_type": "code",
   "execution_count": 700,
   "metadata": {},
   "outputs": [],
   "source": [
    "%matplotlib inline\n",
    "\n",
    "import matplotlib\n",
    "import numpy as np\n",
    "from mpmath import mp\n",
    "import matplotlib.pyplot as plt\n",
    "import math\n",
    "import warnings\n",
    "from ipywidgets import interact, interactive, fixed, interact_manual"
   ]
  },
  {
   "cell_type": "code",
   "execution_count": 701,
   "metadata": {},
   "outputs": [],
   "source": [
    "plt.rcParams['figure.dpi'] = 90\n",
    "plt.rcParams['figure.figsize'] = [12.0, 8.0]\n",
    "plt.rcParams['text.usetex'] = False"
   ]
  },
  {
   "cell_type": "code",
   "execution_count": null,
   "metadata": {},
   "outputs": [],
   "source": []
  },
  {
   "cell_type": "code",
   "execution_count": 702,
   "metadata": {},
   "outputs": [
    {
     "name": "stdout",
     "output_type": "stream",
     "text": [
      "Python implementation: CPython\n",
      "Python version       : 3.9.10\n",
      "IPython version      : 8.1.0\n",
      "\n",
      "Compiler    : Clang 13.0.0 (clang-1300.0.29.3)\n",
      "OS          : Darwin\n",
      "Release     : 21.3.0\n",
      "Machine     : arm64\n",
      "Processor   : arm\n",
      "CPU cores   : 10\n",
      "Architecture: 64bit\n",
      "\n",
      "numpy     : 1.22.2\n",
      "matplotlib: 3.5.1\n",
      "\n"
     ]
    }
   ],
   "source": [
    "import watermark.watermark as watermark\n",
    "print(watermark(machine=True, iso8601=True, python=True, iversions=True, globals_=globals()))"
   ]
  },
  {
   "cell_type": "code",
   "execution_count": 703,
   "metadata": {},
   "outputs": [],
   "source": [
    "def intrange(bot, top, num = 100):\n",
    "    bot = int(bot)\n",
    "    top = int(top)\n",
    "    x = np.linspace(bot, top, num = num)\n",
    "    x = [max(min(int(x), top), bot) for x in x]\n",
    "    return x"
   ]
  },
  {
   "cell_type": "markdown",
   "metadata": {},
   "source": [
    "## EVM primitives"
   ]
  },
  {
   "cell_type": "code",
   "execution_count": 704,
   "metadata": {},
   "outputs": [],
   "source": [
    "BASE = 2**256\n",
    "SIGN = BASE // 2"
   ]
  },
  {
   "cell_type": "code",
   "execution_count": 705,
   "metadata": {},
   "outputs": [],
   "source": [
    "def _valid(a):\n",
    "    assert type(a) is int\n",
    "    assert a >= 0\n",
    "    assert a < BASE\n",
    "\n",
    "def _abs(a):\n",
    "    _valid(a)\n",
    "    if a > SIGN:\n",
    "        a = BASE - a\n",
    "    assert a >= 0 and a < SIGN\n",
    "    return a\n",
    "\n",
    "def bnot(a):\n",
    "    _valid(a)\n",
    "    return a ^ (BASE - 1)\n",
    "\n",
    "def bor(a, b):\n",
    "    _valid(a)\n",
    "    _valid(b)\n",
    "    return a | b\n",
    "\n",
    "def lt(a, b):\n",
    "    _valid(a)\n",
    "    _valid(b)\n",
    "    return 1 if a < b else 0\n",
    "\n",
    "def shl(a, b):\n",
    "    _valid(a)\n",
    "    _valid(b)\n",
    "    return (b << a) % BASE\n",
    "\n",
    "def shr(a, b):\n",
    "    _valid(a)\n",
    "    _valid(b)\n",
    "    return (b >> a) % BASE\n",
    "\n",
    "def sar(a, b):\n",
    "    _valid(a)\n",
    "    _valid(b)\n",
    "    if b >= SIGN:\n",
    "        b = BASE - b\n",
    "        b >>= a\n",
    "        b = BASE - max(b, 1)\n",
    "        return b\n",
    "    else:\n",
    "        return (b >> a) % BASE\n",
    "\n",
    "def add(a, b):\n",
    "    _valid(a)\n",
    "    _valid(b)\n",
    "    return (a + b) % BASE\n",
    "\n",
    "def sub(a, b):\n",
    "    _valid(a)\n",
    "    _valid(b)\n",
    "    return (a - b) % BASE\n",
    "\n",
    "def mul(a, b):\n",
    "    _valid(a)\n",
    "    _valid(b)\n",
    "    return (a * b) % BASE\n",
    "\n",
    "def div(a, b):\n",
    "    _valid(a)\n",
    "    _valid(b)\n",
    "    return a // b\n",
    "\n",
    "def sdiv(a, b):\n",
    "    _valid(a)\n",
    "    _valid(b)\n",
    "    r = _abs(a) // _abs(b)\n",
    "    assert r >= 0 and r < SIGN\n",
    "    if r > 0 and ((a >= SIGN) ^ (b >= SIGN)):\n",
    "        r = BASE - r\n",
    "    assert r >= 0 and r < BASE    \n",
    "    return r\n",
    "\n",
    "def mod(a, b):\n",
    "    _valid(a)\n",
    "    _valid(b)\n",
    "    return (a % b) % BASE\n",
    "\n",
    "def smod(a, b):\n",
    "    _valid(a)\n",
    "    _valid(b)\n",
    "    if b >= SIGN:\n",
    "        b = BASE - b\n",
    "    if a < SIGN:\n",
    "        return (a % b) % BASE\n",
    "    else:\n",
    "        a = BASE - a\n",
    "        return BASE - ((a % b) % BASE)\n",
    "\n",
    "def mulmod(a, b, c):\n",
    "    _valid(a)\n",
    "    _valid(b)\n",
    "    _valid(c)\n",
    "    return ((a * b) % c) % BASE"
   ]
  },
  {
   "cell_type": "code",
   "execution_count": null,
   "metadata": {},
   "outputs": [],
   "source": []
  },
  {
   "cell_type": "code",
   "execution_count": null,
   "metadata": {},
   "outputs": [],
   "source": []
  },
  {
   "cell_type": "markdown",
   "metadata": {},
   "source": [
    "## Ground truth"
   ]
  },
  {
   "cell_type": "code",
   "execution_count": 706,
   "metadata": {},
   "outputs": [],
   "source": [
    "PRECISION = 1024 # Bits\n",
    "mp.prec = PRECISION"
   ]
  },
  {
   "cell_type": "code",
   "execution_count": 707,
   "metadata": {},
   "outputs": [],
   "source": [
    "FIX_1 = 10**18\n",
    "MP_FIX_1 = mp.mpf(FIX_1)"
   ]
  },
  {
   "cell_type": "code",
   "execution_count": 708,
   "metadata": {},
   "outputs": [],
   "source": [
    "def fix_to_mp(x):\n",
    "    _valid(x)\n",
    "    if x < 2**255:\n",
    "        return mp.mpf(x) / MP_FIX_1\n",
    "    else:\n",
    "        x = 2**256 - x\n",
    "        return -mp.mpf(x) / MP_FIX_1"
   ]
  },
  {
   "cell_type": "code",
   "execution_count": 709,
   "metadata": {},
   "outputs": [],
   "source": [
    "def fix_to_f(x):\n",
    "    return float(fix_to_mp(x))"
   ]
  },
  {
   "cell_type": "code",
   "execution_count": 710,
   "metadata": {},
   "outputs": [],
   "source": [
    "def mp_to_fix(x):\n",
    "    # Closest approximation, clamping to MIN and MAX representable values, NaN maps to positive infinite\n",
    "    if mp.isnan(x):\n",
    "        return SIGN - 1\n",
    "    if x >= 0:\n",
    "        if x >= SIGN:\n",
    "            return SIGN - 1\n",
    "        x = int(mp.nint(x * MP_FIX_1))\n",
    "    else:\n",
    "        if -x > SIGN:\n",
    "            return SIGN\n",
    "        x = int(mp.nint(-x * MP_FIX_1))\n",
    "        if x > 0:\n",
    "            x = 2**256 - x\n",
    "    _valid(x)\n",
    "    return x"
   ]
  },
  {
   "cell_type": "code",
   "execution_count": 711,
   "metadata": {},
   "outputs": [],
   "source": [
    "def fmul(a, b):\n",
    "    return bf_to_fix(fix_to_mp(a) * fix_to_mp(b))"
   ]
  },
  {
   "cell_type": "code",
   "execution_count": 712,
   "metadata": {},
   "outputs": [],
   "source": [
    "def mp_log1(x):\n",
    "    return mp_to_fix(mp.log(fix_to_mp(x)))"
   ]
  },
  {
   "cell_type": "code",
   "execution_count": 713,
   "metadata": {},
   "outputs": [],
   "source": [
    "def mp_ln(x):\n",
    "    return mp_to_fix(mp.log(fix_to_mp(x)))"
   ]
  },
  {
   "cell_type": "code",
   "execution_count": 714,
   "metadata": {},
   "outputs": [],
   "source": [
    "def mp_exp(x):\n",
    "    return mp_to_fix(mp.exp(fix_to_mp(x)))"
   ]
  },
  {
   "cell_type": "code",
   "execution_count": 715,
   "metadata": {},
   "outputs": [],
   "source": [
    "assert fix_to_f(FIX_1) == 1.0"
   ]
  },
  {
   "cell_type": "markdown",
   "metadata": {},
   "source": [
    "## Cheby generator"
   ]
  },
  {
   "cell_type": "code",
   "execution_count": 716,
   "metadata": {},
   "outputs": [],
   "source": [
    "def chebyfun(f, domain, degree=11):\n",
    "    start, end = domain\n",
    "    start = mp.mpf(start)\n",
    "    end = mp.mpf(end)\n",
    "    mid = start + (end - start) / 2\n",
    "    \n",
    "    # To make the polynomial evaluate nicely, we center x around zero using an offset CENTER\n",
    "    # Alternatively we could use Clenshaw's algorithm\n",
    "    # TODO: Centering helps a lot, what about scaling?\n",
    "    coeffs = mp.chebyfit(lambda x: f(x + mid), [start - mid, end - mid], degree)\n",
    "    coeffs = [mp_to_fix(x) for x in coeffs]\n",
    "    mid = mp_to_fix(mid)\n",
    "    \n",
    "    # Solidity function\n",
    "    def func(x):\n",
    "        nonlocal mid, coeffs\n",
    "        x = sub(x, mid)\n",
    "        r = coeffs[0]\n",
    "        for coeff in coeffs[1:]:\n",
    "            # r = (r * x / 1e18) + coeff\n",
    "            r = mul(r, x)\n",
    "            r = sdiv(r, FIX_1)\n",
    "            r = add(r, coeff)\n",
    "        return r\n",
    "    \n",
    "    # Plot error\n",
    "    x = intrange(mp_to_fix(start), mp_to_fix(end), num = 10000)\n",
    "    xr = np.array([fix_to_f(x) for x in x])\n",
    "    y = np.array([mp_to_fix(f(fix_to_mp(x))) for x in x], dtype='object')\n",
    "    yr = np.array([fix_to_f(y) for y in y])\n",
    "    fy = np.array([func(x) for x in x], dtype='object')\n",
    "    fyr = np.array([fix_to_f(y) for y in fy])\n",
    "    plt.title('Error over domain')\n",
    "    plt.xlabel(\"$x$\")\n",
    "    plt.ylabel(\"$f(x) - r$\")\n",
    "    plt.plot(xr, (fyr - yr).astype(float))\n",
    "    plt.axhline(-0.5 / FIX_1, color='red')\n",
    "    plt.axhline(+0.5 / FIX_1, color='red')\n",
    "    error_fix = max(abs(fy - y))\n",
    "    error_bits = max(np.log2(abs(fy - y).astype(float)))\n",
    "    \n",
    "    # Print Solidity\n",
    "    print('// Chebyshev approximation on ({:.4g}, {:.4g}) deg {}.'.format(float(start), float(end), degree))\n",
    "    print('// Max observed error {:.2g}, last {:.2g} bits.'.format(fix_to_f(error_fix), error_bits))\n",
    "    if mid < SIGN:\n",
    "        print('x -= 0x{:x}; // {:.3g}'.format(mid, fix_to_f(mid)))\n",
    "    else:\n",
    "        print('x += 0x{:x}; // {:.3g}'.format(BASE - mid, fix_to_f(mid)))\n",
    "    if coeffs[0] < SIGN:\n",
    "        print('int256 r = 0x{:x}; // {:.3g}'.format(coeffs[0], fix_to_f(coeffs[0])))\n",
    "    else:\n",
    "        print('int256 r = -0x{:x}; // {:.3g}'.format(BASE - coeffs[0], fix_to_f(coeffs[0])))\n",
    "    for x in coeffs:\n",
    "        if x < SIGN:\n",
    "            print('r = ((r * x) / FIX_1) + 0x{:x}; // {:.3g}'.format(x, fix_to_f(x)))\n",
    "        else:\n",
    "            print('r = ((r * x) / FIX_1) - 0x{:x}; // {:.3g}'.format(BASE - x, fix_to_f(x)))\n",
    "\n",
    "    return func"
   ]
  },
  {
   "cell_type": "code",
   "execution_count": 717,
   "metadata": {},
   "outputs": [],
   "source": [
    "def fn_exp(x):\n",
    "    return mp.exp(x)"
   ]
  },
  {
   "cell_type": "code",
   "execution_count": 718,
   "metadata": {},
   "outputs": [],
   "source": [
    "domain = (0.0, 0.125)"
   ]
  },
  {
   "cell_type": "code",
   "execution_count": 719,
   "metadata": {},
   "outputs": [
    {
     "data": {
      "application/vnd.jupyter.widget-view+json": {
       "model_id": "915829888f96495eb8e3154383177fb8",
       "version_major": 2,
       "version_minor": 0
      },
      "text/plain": [
       "interactive(children=(IntSlider(value=8, description='d', max=24, min=-8), Output()), _dom_classes=('widget-in…"
      ]
     },
     "metadata": {},
     "output_type": "display_data"
    },
    {
     "data": {
      "text/plain": [
       "<function __main__.<lambda>(d)>"
      ]
     },
     "execution_count": 719,
     "metadata": {},
     "output_type": "execute_result"
    }
   ],
   "source": [
    "interact(lambda d:chebyfun(fn_exp, domain, degree=d), d=8)"
   ]
  },
  {
   "cell_type": "code",
   "execution_count": 720,
   "metadata": {},
   "outputs": [
    {
     "data": {
      "text/plain": [
       "mpf('1.0')"
      ]
     },
     "execution_count": 720,
     "metadata": {},
     "output_type": "execute_result"
    }
   ],
   "source": [
    "fix_to_mp(FIX_1)"
   ]
  },
  {
   "cell_type": "code",
   "execution_count": 721,
   "metadata": {},
   "outputs": [
    {
     "data": {
      "text/plain": [
       "115792089237316195423570985008687907853269984665640564039457084007913129639936"
      ]
     },
     "execution_count": 721,
     "metadata": {},
     "output_type": "execute_result"
    }
   ],
   "source": [
    "sdiv(115792089237316195423570985008687907853269484665640564039457584007913129639936, FIX_1)"
   ]
  },
  {
   "cell_type": "code",
   "execution_count": 722,
   "metadata": {},
   "outputs": [
    {
     "name": "stdout",
     "output_type": "stream",
     "text": [
      "// Chebyshev approximation on (0, 0.125) deg 11.\n",
      "// Max observed error 1e-18, last 0 bits.\n",
      "x -= 0xde0b6b3a764000; // 0.0625\n",
      "int256 r = 0x444e371820; // 2.93e-07\n",
      "r = ((r * x) / FIX_1) + 0x444e371820; // 2.93e-07\n",
      "r = ((r * x) / FIX_1) + 0x2ab10ff87b6; // 2.93e-06\n",
      "r = ((r * x) / FIX_1) + 0x1802ff4bd772; // 2.64e-05\n",
      "r = ((r * x) / FIX_1) + 0xc017fa590a66; // 0.000211\n",
      "r = ((r * x) / FIX_1) + 0x540a7d8e6d194; // 0.00148\n",
      "r = ((r * x) / FIX_1) + 0x1f83ef1568ed35; // 0.00887\n",
      "r = ((r * x) / FIX_1) + 0x9d93ab6b0c7caf; // 0.0444\n",
      "r = ((r * x) / FIX_1) + 0x2764eadac31f2ba; // 0.177\n",
      "r = ((r * x) / FIX_1) + 0x762ec090495d833; // 0.532\n",
      "r = ((r * x) / FIX_1) + 0xec5d812092bb066; // 1.06\n",
      "r = ((r * x) / FIX_1) + 0xec5d812092bb066; // 1.06\n"
     ]
    },
    {
     "name": "stderr",
     "output_type": "stream",
     "text": [
      "/var/folders/cb/n6k1dpbn7f1_n5m5dqv6rjvc0000gn/T/ipykernel_85508/2621324204.py:40: RuntimeWarning: divide by zero encountered in log2\n",
      "  error_bits = max(np.log2(abs(fy - y).astype(float)))\n"
     ]
    },
    {
     "data": {
      "image/png": "[encoded data removed]",
      "text/plain": [
       "<Figure size 1080x720 with 1 Axes>"
      ]
     },
     "metadata": {
      "needs_background": "light"
     },
     "output_type": "display_data"
    }
   ],
   "source": [
    "my_log1 = chebyfun(fn_exp, domain, degree=11)"
   ]
  },
  {
   "cell_type": "code",
   "execution_count": 723,
   "metadata": {},
   "outputs": [
    {
     "name": "stdout",
     "output_type": "stream",
     "text": [
      "// Chebyshev approximation on (0, 0.125) deg 17.\n",
      "// Max observed error 1e-18, last 0 bits.\n",
      "x -= 0xde0b6b3a764000; // 0.0625\n",
      "int256 r = 0xc6c0; // 5.09e-14\n",
      "r = ((r * x) / FIX_1) + 0xc6c0; // 5.09e-14\n",
      "r = ((r * x) / FIX_1) + 0xc6c06; // 8.14e-13\n",
      "r = ((r * x) / FIX_1) + 0xba5171; // 1.22e-11\n",
      "r = ((r * x) / FIX_1) + 0xa30742f; // 1.71e-10\n",
      "r = ((r * x) / FIX_1) + 0x8475e66d; // 2.22e-09\n",
      "r = ((r * x) / FIX_1) + 0x63586cd21; // 2.67e-08\n",
      "r = ((r * x) / FIX_1) + 0x444ccad066; // 2.93e-07\n",
      "r = ((r * x) / FIX_1) + 0x2aaffec23f8; // 2.93e-06\n",
      "r = ((r * x) / FIX_1) + 0x1802ff4d43bb; // 2.64e-05\n",
      "r = ((r * x) / FIX_1) + 0xc017fa6a1dda; // 0.000211\n",
      "r = ((r * x) / FIX_1) + 0x540a7d8e6d0f5; // 0.00148\n",
      "r = ((r * x) / FIX_1) + 0x1f83ef1568e5bd; // 0.00887\n",
      "r = ((r * x) / FIX_1) + 0x9d93ab6b0c7caf; // 0.0444\n",
      "r = ((r * x) / FIX_1) + 0x2764eadac31f2bc; // 0.177\n",
      "r = ((r * x) / FIX_1) + 0x762ec090495d833; // 0.532\n",
      "r = ((r * x) / FIX_1) + 0xec5d812092bb066; // 1.06\n",
      "r = ((r * x) / FIX_1) + 0xec5d812092bb066; // 1.06\n"
     ]
    },
    {
     "name": "stderr",
     "output_type": "stream",
     "text": [
      "/var/folders/cb/n6k1dpbn7f1_n5m5dqv6rjvc0000gn/T/ipykernel_85508/2621324204.py:40: RuntimeWarning: divide by zero encountered in log2\n",
      "  error_bits = max(np.log2(abs(fy - y).astype(float)))\n"
     ]
    },
    {
     "data": {
      "image/png": "[encoded data removed]",
      "text/plain": [
       "<Figure size 1080x720 with 1 Axes>"
      ]
     },
     "metadata": {
      "needs_background": "light"
     },
     "output_type": "display_data"
    }
   ],
   "source": [
    "my_exp = chebyfun(mp.exp, (0.0, 0.125), degree=17)"
   ]
  },
  {
   "cell_type": "code",
   "execution_count": null,
   "metadata": {},
   "outputs": [],
   "source": []
  },
  {
   "cell_type": "code",
   "execution_count": 724,
   "metadata": {},
   "outputs": [],
   "source": [
    "def chebyshev_nodes(domain, n):\n",
    "    start, end = domain\n",
    "    start = mp.mpf(start)\n",
    "    end = mp.mpf(end)\n",
    "    mid = (start + end) / 2\n",
    "    amp = (end - start) / 2\n",
    "    xs = []\n",
    "    for i in range(n):\n",
    "        f = mp.mpf(2 * i + 1) / mp.mpf(2 * n)\n",
    "        xs += [mid - amp * mp.cos(mp.pi * f)]\n",
    "    return xs"
   ]
  },
  {
   "cell_type": "code",
   "execution_count": 725,
   "metadata": {},
   "outputs": [],
   "source": [
    "def least_squares(A, b):\n",
    "    U, S, V = mp.svd_r(A)\n",
    "    for i in range(len(S)):\n",
    "        if S[i] != 0:\n",
    "            S[i] = mp.one / S[i]\n",
    "    return V.T * mp.diag(S) * U.T * b"
   ]
  },
  {
   "cell_type": "code",
   "execution_count": 726,
   "metadata": {},
   "outputs": [],
   "source": [
    "def vandermonde(x, n):\n",
    "    A = mp.matrix(len(x), n)\n",
    "    for i, x in enumerate(x):\n",
    "        r = mp.one\n",
    "        for j in range(n):\n",
    "            A[i, j] = r\n",
    "            r *= x\n",
    "    return A"
   ]
  },
  {
   "cell_type": "code",
   "execution_count": 727,
   "metadata": {},
   "outputs": [
    {
     "data": {
      "text/plain": [
       "['0xec5d812092bb066',\n",
       " '0xec5d812092bb066',\n",
       " '0x762ec090495d833',\n",
       " '0x2764eadac31f2bc',\n",
       " '0x9d93ab6b0c7caf',\n",
       " '0x1f83ef1568e5bd',\n",
       " '0x540a7d8e6d0f5',\n",
       " '0xc017fa6a1dda',\n",
       " '0x1802ff4d43bb',\n",
       " '0x2aaffec23f8',\n",
       " '0x444ccad066',\n",
       " '0x63586cd21',\n",
       " '0x8475e66d',\n",
       " '0xa30742f',\n",
       " '0xba5171',\n",
       " '0xc6c06',\n",
       " '0xc6c0']"
      ]
     },
     "execution_count": 727,
     "metadata": {},
     "output_type": "execute_result"
    }
   ],
   "source": [
    "f = lambda x: mp.exp(x + 0.0625)\n",
    "d = (0.0 - 0.0625, 0.125 - 0.0625)\n",
    "x = chebyshev_nodes(d, 17)\n",
    "y = mp.matrix([f(x) for x in x])\n",
    "c = least_squares(vandermonde(x, 17), y)\n",
    "[hex(mp_to_fix(c)) for c in c]"
   ]
  },
  {
   "cell_type": "code",
   "execution_count": 728,
   "metadata": {},
   "outputs": [],
   "source": [
    "def extrema(domain, f, c, derivative=None):\n",
    "    # If no derivative of f is provided, produce one numerically\n",
    "    if derivative is None:\n",
    "        derivative = lambda x: mp.diff(f, x)\n",
    "    \n",
    "    # Create a derivative of the polynomial\n",
    "    c = reversed([c for i, c in enumerate(c[0:-1:-1])])\n",
    "    \n",
    "    # Find extrema in the domain\n",
    "    f = lambda x: polyval(c, x) - derivative(x)\n",
    "    "
   ]
  },
  {
   "cell_type": "code",
   "execution_count": 729,
   "metadata": {},
   "outputs": [],
   "source": [
    "def remez(x, n):\n",
    "    A = mp.matrix(len(x), n + 1)\n",
    "    for i, x in enumerate(x):\n",
    "        r = mp.one\n",
    "        for j in range(n):\n",
    "            A[i, j] = r\n",
    "            r *= x\n",
    "        A[i, n] = mp.one if i % 2 == 0 else -mp.one\n",
    "    return A"
   ]
  },
  {
   "cell_type": "code",
   "execution_count": 730,
   "metadata": {},
   "outputs": [
    {
     "name": "stdout",
     "output_type": "stream",
     "text": [
      "[                                        1.064494458917859429563390594642889673102196875845794886517105937190162527623104184288352002087062444916185097998146973676999146529590008869969558781261740862644423323725219259737153328509480186422719447146723913658882839342929673106434827099147177303050246944554417728929839725312684720785776136017026261039]\n",
      "[                                        1.064494458917859429563390594642889673058638708206661182621077187627694944548695685861988047180905087922655644777457560275773875519471511126695473462269441402302811719248095048074577457344620877539438423036294088876980319546748464921955284949935366206750043877210754826871189247789411550281646876626372126051]\n",
      "[                                       0.5322472294589297147816952973214447861877371852109614158614529618145239852511230477816272801728021393842138151567391157349025865086517863474588381859957546764036157429393020264486787014960261009671326603765063351888450741892558684401618698421040369310270487880334208761277878188066047815642755478104255637959]\n",
      "[                                       0.1774157431529765715938984324404821293451363008884221562673741528286033602790247606113395713244427903294379088956445096432690941495974669098187620466597710916335819272159171663748525220097881359932119099643833700023678038839018264954224561343300176033191462110905524568998980126312729010890864859423679277937]\n",
      "[                                      0.04435393578824414289847460811040169638558935999550219019600012577428252419029176129720657217111801958622629401914239016398579085708572519781968259212681188470632535726210828531782092334376872371855751965449720232486071850525929150245689523233112996021276596682506205964409221394257109250694943261398639586048]\n",
      "[                                     0.008870787157648828579694921620170574211778441766741225886392207673862217363527027027994327029843252747852255426782551505820971911161826253563799887087396849608956870923828882195037716440322517466525915144871094371936815356809525534161493974231078616321057454477915025448362730426348494087005016215369773610703]\n",
      "[                                     0.001478464526274804763282486341020008507843939390120061333548149389461093885524685736214496380096604811601977988234493475053708228978206173139891688916536696166237742610156804419798534217825896102783033298942173529242375558195441439643276516510394534575900561294398819742451043395797392214552645987363728813045]\n",
      "[                                    0.0002112092180392578233260725449827385242474029286366626446912591078878299455949309852059837681589736374173695146854557474852717772167112343118603472054323138888774269998561426741390692716833238535411926250158546181315122476111039946097861300779102896863406390529719733563423955867295843427742447214566066582942]\n",
      "[                                   0.00002640115225490722791637665270187381182223604592382667902888782965398002543642847201361788676449415392011491971055695950685089442978671412984589901237076371763921452476100471425904939188551916263744192982664613017569236824655144534977705676332511542232073928968878965707704996552535222085790509995142891228852]\n",
      "[                                  0.000002933461361656358654761413396555577759312275864282002112377339452850687643494615219533458725343036122619926254085912656819913932269749989232553712669837832568712228608471573132602128698762537241006259927782469949018533614077108138788010969322957562286534829109240961534064587744942498486417159570005307555519]\n",
      "[                                 0.0000002933461361656355187716101747547717051128770154261382896708750346835614928252142630546329535399550317661517908692416726191722924144275612791077871113295198244835843958003762679764043598113685212360648321041107664679937591519597167455799341725361916141019068145953593893197208893345795490823766583533874396553]\n",
      "[                                0.00000002666783056051358344435688355989109368905536499996616184171899096032037950805539384121847888299859255616004166046670942933554052978853498693997002846099119113811019187735235463391833593167832785787286529231426485773827825728105263085342318774631992402951418918800325983597321820739642926568376413590843380949]\n",
      "[                               0.000000002222319213483695566085043037615234360784726907232005495962150954283183042996818085662455512097014610571674745459463862964105445046119852599246858722416293470032911727373837150397032762185845275879002143622683663271371167652053464643611693602239230879377625753136811526898146595857841396408034711217463790307]\n",
      "[                              0.0000000001709476314585007848091367921242652192428219746577821311755912158880750126689089922542150719515826024828600493658254776690945397129872037528872055512419768420995947037871067204355927749876907271226395738407031090330709878232102960023408322072090373798131522425701453176651237511876447851299945561694842554428]\n",
      "[                             0.00000000001221052776319518549224144419398202219187214992634455672704926532638613638477163597384450511585967466381659297825311609960429337378131006722266763401889846828818995132844690298280858317289886087476687149474365319749255042546885773018490872277671925243615826435050738966319537882400060412697919258397829979339]\n",
      "[                           0.0000000000008140860281500512199639816991120330555884641522815948709273907803742559617303110490875172598620926764296349823804507832069197589768303095703751469392497830979132055120769091137956018190277241529773327260565140391869782551939712231476054242012793792879373709441442248825659197346342913872405712167652681914737]\n",
      "[                          0.00000000000005201409733527632613040307414885359809460083486869950745818992943664225980169588296119916754734262759233841579432272079176846455241866796218359986827207878227646485655673266473922933636030540845684146737967903231891274344161593831710522606046519740488174150648930764868817295177397154051253706227958096491148]\n",
      "[-0.000000000000000000000000000000000000001471432196441584997798426554598590794938177954058566580185820540672115016885791603144789875692927614644983060318552472207906744523033825022712613377345581026661215079249119965924364521284736843761059250523113637593653057215717725913902335878477973941937519287961456950450090807542296157914869959680613856647]\n"
     ]
    },
    {
     "data": {
      "text/plain": [
       "['0xec5d812092bb066',\n",
       " '0xec5d812092bb066',\n",
       " '0x762ec090495d833',\n",
       " '0x2764eadac31f2bc',\n",
       " '0x9d93ab6b0c7caf',\n",
       " '0x1f83ef1568e5bd',\n",
       " '0x540a7d8e6d0f5',\n",
       " '0xc017fa6a1dda',\n",
       " '0x1802ff4d43bb',\n",
       " '0x2aaffec23f8',\n",
       " '0x444ccad066',\n",
       " '0x63586cd21',\n",
       " '0x8475e66d',\n",
       " '0xa30742f',\n",
       " '0xba5160',\n",
       " '0xc6c06',\n",
       " '0xcb2e',\n",
       " '0x0']"
      ]
     },
     "execution_count": 730,
     "metadata": {},
     "output_type": "execute_result"
    }
   ],
   "source": [
    "c = least_squares(remez(x, 17), y)\n",
    "print(c)\n",
    "[hex(mp_to_fix(c)) for c in c]"
   ]
  },
  {
   "cell_type": "code",
   "execution_count": null,
   "metadata": {},
   "outputs": [],
   "source": []
  },
  {
   "cell_type": "code",
   "execution_count": null,
   "metadata": {},
   "outputs": [],
   "source": []
  },
  {
   "cell_type": "code",
   "execution_count": null,
   "metadata": {},
   "outputs": [],
   "source": []
  },
  {
   "cell_type": "markdown",
   "metadata": {},
   "source": [
    "## LibFixMath\n",
    "\n",
    "**TODO.** LibFixedMath uses signed int, not unsigned"
   ]
  },
  {
   "cell_type": "code",
   "execution_count": null,
   "metadata": {},
   "outputs": [],
   "source": [
    "FIXED_1 = 0x0000000000000000000000000000000080000000000000000000000000000000\n",
    "MANTISA_MASK = 0x7fffffffffffffffffffffffffffffff\n",
    "LN_MIN_VAL = 0x0000000000000000000000000000000000000000000000000000000733048c5a\n",
    "LN_MAX_VAL = FIXED_1\n",
    "EXP_MIN_VAL = BASE - 0x0000000000000000000000000000001ff0000000000000000000000000000000"
   ]
  },
  {
   "cell_type": "code",
   "execution_count": null,
   "metadata": {},
   "outputs": [],
   "source": [
    "def lib_toInteger(x):\n",
    "    return div(x, FIXED_1)"
   ]
  },
  {
   "cell_type": "code",
   "execution_count": null,
   "metadata": {},
   "outputs": [],
   "source": [
    "def lib_toMantissa(x):\n",
    "    if x > 0:\n",
    "        return x & MANTISSA_MASK"
   ]
  },
  {
   "cell_type": "code",
   "execution_count": null,
   "metadata": {},
   "outputs": [],
   "source": [
    "def lib_mul(a, b):\n",
    "    aI = lib_toInteger(a)\n",
    "    aM = lib_toMantissa(a)\n",
    "    aI = lib_toInteger(b)\n",
    "    aM = lib_toMantissa(b)\n",
    "    \n",
    "    integerPart = mul(FIXED_1, mul(aI, bI))"
   ]
  },
  {
   "cell_type": "code",
   "execution_count": null,
   "metadata": {},
   "outputs": [],
   "source": [
    "def lib_log1(x):\n",
    "    # Valid over range ~0.87 - 1.0\n",
    "    r = 0\n",
    "    y = sub(x, FIXED_1)\n",
    "    z = y\n",
    "    w = sdiv(mul(y, y), FIXED_1)\n",
    "    r = add(r, sdiv(mul(z, sub(0x100000000000000000000000000000000, y)), 0x100000000000000000000000000000000))\n",
    "    z = sdiv(mul(z, w), FIXED_1)\n",
    "    r = add(r, sdiv(mul(z, sub(0x0aaaaaaaaaaaaaaaaaaaaaaaaaaaaaaaa, y)), 0x200000000000000000000000000000000))\n",
    "    z = sdiv(mul(z, w), FIXED_1)\n",
    "    r = add(r, sdiv(mul(z, sub(0x099999999999999999999999999999999, y)), 0x300000000000000000000000000000000))\n",
    "    z = sdiv(mul(z, w), FIXED_1)\n",
    "    r = add(r, sdiv(mul(z, sub(0x092492492492492492492492492492492, y)), 0x400000000000000000000000000000000))\n",
    "    z = sdiv(mul(z, w), FIXED_1)\n",
    "    r = add(r, sdiv(mul(z, sub(0x08e38e38e38e38e38e38e38e38e38e38e, y)), 0x500000000000000000000000000000000))\n",
    "    z = sdiv(mul(z, w), FIXED_1)\n",
    "    r = add(r, sdiv(mul(z, sub(0x08ba2e8ba2e8ba2e8ba2e8ba2e8ba2e8b, y)), 0x600000000000000000000000000000000))\n",
    "    z = sdiv(mul(z, w), FIXED_1)\n",
    "    r = add(r, sdiv(mul(z, sub(0x089d89d89d89d89d89d89d89d89d89d89, y)), 0x700000000000000000000000000000000))\n",
    "    z = sdiv(mul(z, w), FIXED_1)\n",
    "    r = add(r, sdiv(mul(z, sub(0x088888888888888888888888888888888, y)), 0x800000000000000000000000000000000))\n",
    "    return r"
   ]
  },
  {
   "cell_type": "code",
   "execution_count": null,
   "metadata": {},
   "outputs": [],
   "source": []
  },
  {
   "cell_type": "code",
   "execution_count": null,
   "metadata": {},
   "outputs": [],
   "source": []
  },
  {
   "cell_type": "code",
   "execution_count": null,
   "metadata": {},
   "outputs": [],
   "source": [
    "t = []\n",
    "def lib_ln(x, reductions='old', log='old'):\n",
    "    global t\n",
    "    _valid(x)\n",
    "    if x > LN_MAX_VAL:\n",
    "        raise \"ln: value too large\"\n",
    "    if x == 0 or x >= SIGN:\n",
    "        raise \"ln: value too small\"\n",
    "    if x == FIXED_1:\n",
    "        return 0\n",
    "    if x <= LN_MIN_VAL:\n",
    "        return EXP_MIN_VAL\n",
    "    \n",
    "    r = 0\n",
    "    y = 0\n",
    "    z = 0\n",
    "    w = 0\n",
    "    \n",
    "    old_values = [\n",
    "        0x00000000000000000000000000000000000000000001c8464f76164760000000,\n",
    "        0x00000000000000000000000000000000000000f1aaddd7742e90000000000000,\n",
    "        0x00000000000000000000000000000000000afe10820813d78000000000000000,\n",
    "        0x0000000000000000000000000000000002582ab704279ec00000000000000000,\n",
    "        0x000000000000000000000000000000001152aaa3bf81cc000000000000000000,\n",
    "        0x000000000000000000000000000000002f16ac6c59de70000000000000000000,\n",
    "        0x000000000000000000000000000000004da2cbf1be5828000000000000000000,\n",
    "        0x0000000000000000000000000000000063afbe7ab2082c000000000000000000,\n",
    "        0x0000000000000000000000000000000070f5a893b608861e1f58934f97aea57d,\n",
    "    ]\n",
    "    new_values = [\n",
    "        0x1c8464f76164681e299a0,\n",
    "        0xf1aaddd7742e56d32fb9f99744,\n",
    "        0xafe10820813d65dfe6a33c07f738f,\n",
    "        0x2582ab704279e8efd15e0265855c47b,\n",
    "        0x1152aaa3bf81cb9fdb76eae12d029572,\n",
    "        0x2f16ac6c59de6f8d5d6f63c1482a7c87,\n",
    "        0x4da2cbf1be5827f9eb3ad1aa9866ebb4,\n",
    "        0x63afbe7ab2082ba1a0ae5e4eb1b479dd,\n",
    "        0x70f5a893b608861e1f58934f97aea57d,\n",
    "    ]\n",
    "    reduction_values = old_values if reductions == 'old' else new_values\n",
    "    for i, v in enumerate(reduction_values):\n",
    "        if x <= v:\n",
    "            r = sub(r, 0x0000000000000000000000000000001000000000000000000000000000000000 >> i)\n",
    "            x = sdiv(mul(x, FIXED_1), v)\n",
    "    \n",
    "    t += [x]\n",
    "    if log == 'new':\n",
    "        return add(r, my_log1(x))\n",
    "    \n",
    "    y = sub(x, FIXED_1)\n",
    "    z = y\n",
    "    w = sdiv(mul(y, y), FIXED_1)\n",
    "    r = add(r, sdiv(mul(z, sub(0x100000000000000000000000000000000, y)), 0x100000000000000000000000000000000))\n",
    "    z = sdiv(mul(z, w), FIXED_1)\n",
    "    r = add(r, sdiv(mul(z, sub(0x0aaaaaaaaaaaaaaaaaaaaaaaaaaaaaaaa, y)), 0x200000000000000000000000000000000))\n",
    "    z = sdiv(mul(z, w), FIXED_1)\n",
    "    r = add(r, sdiv(mul(z, sub(0x099999999999999999999999999999999, y)), 0x300000000000000000000000000000000))\n",
    "    z = sdiv(mul(z, w), FIXED_1)\n",
    "    r = add(r, sdiv(mul(z, sub(0x092492492492492492492492492492492, y)), 0x400000000000000000000000000000000))\n",
    "    z = sdiv(mul(z, w), FIXED_1)\n",
    "    r = add(r, sdiv(mul(z, sub(0x08e38e38e38e38e38e38e38e38e38e38e, y)), 0x500000000000000000000000000000000))\n",
    "    z = sdiv(mul(z, w), FIXED_1)\n",
    "    r = add(r, sdiv(mul(z, sub(0x08ba2e8ba2e8ba2e8ba2e8ba2e8ba2e8b, y)), 0x600000000000000000000000000000000))\n",
    "    z = sdiv(mul(z, w), FIXED_1)\n",
    "    r = add(r, sdiv(mul(z, sub(0x089d89d89d89d89d89d89d89d89d89d89, y)), 0x700000000000000000000000000000000))\n",
    "    z = sdiv(mul(z, w), FIXED_1)\n",
    "    r = add(r, sdiv(mul(z, sub(0x088888888888888888888888888888888, y)), 0x800000000000000000000000000000000))\n",
    "    \n",
    "    return r"
   ]
  },
  {
   "cell_type": "code",
   "execution_count": null,
   "metadata": {},
   "outputs": [],
   "source": [
    "for i in range(-3,6):\n",
    "    print(2**i)\n",
    "    print(hex( mp_to_fix( mp.exp(-mp.mpf(2) ** (i)) )))"
   ]
  },
  {
   "cell_type": "code",
   "execution_count": null,
   "metadata": {},
   "outputs": [],
   "source": [
    "def my_mul(a, b):\n",
    "    mm = mulmod(a, b, bnot(0))\n",
    "    r0 = mul(a, b)\n",
    "    r1 = sub(sub(mm, r0), lt(mm, r0))\n",
    "    r1 = add(r1, mul(sar(256, a), b))\n",
    "    r1 = add(r1, mul(sar(256, b), a))\n",
    "    r = bor(shl(129, r1), shr(127, r0))\n",
    "    return r"
   ]
  },
  {
   "cell_type": "code",
   "execution_count": null,
   "metadata": {},
   "outputs": [],
   "source": [
    "a = 2617556668622594272776707985386330127\n",
    "b = BASE - 130444458470968929913751441309200329514"
   ]
  },
  {
   "cell_type": "code",
   "execution_count": null,
   "metadata": {},
   "outputs": [],
   "source": [
    "fix_to_f(a)"
   ]
  },
  {
   "cell_type": "code",
   "execution_count": null,
   "metadata": {},
   "outputs": [],
   "source": [
    "fix_to_f(b)"
   ]
  },
  {
   "cell_type": "code",
   "execution_count": null,
   "metadata": {},
   "outputs": [],
   "source": [
    "d = my_mul(a, b)\n",
    "d"
   ]
  },
  {
   "cell_type": "code",
   "execution_count": null,
   "metadata": {},
   "outputs": [],
   "source": [
    "fix_to_f(d)"
   ]
  },
  {
   "cell_type": "code",
   "execution_count": null,
   "metadata": {},
   "outputs": [],
   "source": [
    "0.01538461538461533 * -0.7666836201434823"
   ]
  },
  {
   "cell_type": "code",
   "execution_count": null,
   "metadata": {},
   "outputs": [],
   "source": [
    "hex(sar(256, mp_to_fix(-2)))"
   ]
  },
  {
   "cell_type": "code",
   "execution_count": null,
   "metadata": {},
   "outputs": [],
   "source": []
  },
  {
   "cell_type": "code",
   "execution_count": null,
   "metadata": {},
   "outputs": [],
   "source": []
  },
  {
   "cell_type": "code",
   "execution_count": null,
   "metadata": {},
   "outputs": [],
   "source": []
  },
  {
   "cell_type": "markdown",
   "metadata": {},
   "source": [
    "# Evaluate"
   ]
  },
  {
   "cell_type": "code",
   "execution_count": null,
   "metadata": {},
   "outputs": [],
   "source": [
    "x = intrange(mp_to_fix(0.875), mp_to_fix(1.0), num = 10000)\n",
    "xr = [fix_to_f(x) for x in x]"
   ]
  },
  {
   "cell_type": "code",
   "execution_count": null,
   "metadata": {},
   "outputs": [],
   "source": [
    "def fix_exp(x):\n",
    "    return x.pow(1/(1-x))"
   ]
  },
  {
   "cell_type": "code",
   "execution_count": null,
   "metadata": {},
   "outputs": [],
   "source": [
    "y = np.array([fix_exp(x) for x in x])\n",
    "yr = np.array([fix_to_f(y) for y in y])"
   ]
  },
  {
   "cell_type": "markdown",
   "metadata": {},
   "source": [
    "### Log(1 + z)"
   ]
  },
  {
   "cell_type": "code",
   "execution_count": null,
   "metadata": {},
   "outputs": [],
   "source": [
    "x = intrange(mp_to_fix(0.875), mp_to_fix(1.0), num = 10000)\n",
    "xr = [fix_to_f(x) for x in x]"
   ]
  },
  {
   "cell_type": "code",
   "execution_count": null,
   "metadata": {},
   "outputs": [],
   "source": [
    "y = np.array([mp_log1(x) for x in x])\n",
    "yr = np.array([fix_to_f(y) for y in y])"
   ]
  },
  {
   "cell_type": "code",
   "execution_count": null,
   "metadata": {},
   "outputs": [],
   "source": [
    "ly = np.array([lib_log1(x) for x in x])\n",
    "lyr = np.array([fix_to_f(y) for y in ly])"
   ]
  },
  {
   "cell_type": "code",
   "execution_count": null,
   "metadata": {},
   "outputs": [],
   "source": [
    "my = np.array([my_log1(x) for x in x])\n",
    "myr = np.array([fix_to_f(y) for y in my])"
   ]
  },
  {
   "cell_type": "code",
   "execution_count": null,
   "metadata": {},
   "outputs": [],
   "source": [
    "plt.plot(xr, yr)\n",
    "plt.plot(xr, lyr)\n",
    "plt.plot(xr, myr)"
   ]
  },
  {
   "cell_type": "code",
   "execution_count": null,
   "metadata": {},
   "outputs": [],
   "source": [
    "plt.plot(xr, np.log2(abs(ly - y).astype(float)))\n",
    "plt.plot(xr, np.log2(abs(my - y).astype(float)))"
   ]
  },
  {
   "cell_type": "markdown",
   "metadata": {},
   "source": [
    "### Exp(x)"
   ]
  },
  {
   "cell_type": "code",
   "execution_count": null,
   "metadata": {},
   "outputs": [],
   "source": [
    "x = intrange(mp_to_fix(0.0), mp_to_fix(0.125), num = 10000)\n",
    "xr = [fix_to_f(x) for x in x]"
   ]
  },
  {
   "cell_type": "code",
   "execution_count": null,
   "metadata": {},
   "outputs": [],
   "source": [
    "y = np.array([mp_exp(x) for x in x])\n",
    "yr = np.array([fix_to_f(y) for y in y])"
   ]
  },
  {
   "cell_type": "code",
   "execution_count": null,
   "metadata": {},
   "outputs": [],
   "source": [
    "my = np.array([my_exp(x) for x in x])\n",
    "myr = np.array([fix_to_f(y) for y in my])"
   ]
  },
  {
   "cell_type": "code",
   "execution_count": null,
   "metadata": {},
   "outputs": [],
   "source": [
    "plt.plot(xr, yr)\n",
    "plt.plot(xr, myr)"
   ]
  },
  {
   "cell_type": "code",
   "execution_count": null,
   "metadata": {},
   "outputs": [],
   "source": [
    "plt.plot(xr, np.log2(abs(my - y).astype(float)))"
   ]
  },
  {
   "cell_type": "markdown",
   "metadata": {},
   "source": [
    "### Ln(x)"
   ]
  },
  {
   "cell_type": "code",
   "execution_count": null,
   "metadata": {},
   "outputs": [],
   "source": [
    "t = []"
   ]
  },
  {
   "cell_type": "code",
   "execution_count": null,
   "metadata": {},
   "outputs": [],
   "source": [
    "x = intrange(LN_MIN_VAL, LN_MAX_VAL, num = 10000)\n",
    "xr = [fix_to_f(x) for x in x]"
   ]
  },
  {
   "cell_type": "code",
   "execution_count": null,
   "metadata": {},
   "outputs": [],
   "source": [
    "y = np.array([mp_ln(x) for x in x])\n",
    "yr = np.array([fix_to_f(y) for y in y])"
   ]
  },
  {
   "cell_type": "code",
   "execution_count": null,
   "metadata": {},
   "outputs": [],
   "source": [
    "ly = np.array([lib_ln(x) for x in x])\n",
    "lyr = np.array([fix_to_f(y) for y in ly])"
   ]
  },
  {
   "cell_type": "code",
   "execution_count": null,
   "metadata": {},
   "outputs": [],
   "source": [
    "lz = np.array([lib_ln(x, reductions='new', log='new') for x in x])\n",
    "lzr = np.array([fix_to_f(z) for z in lz])"
   ]
  },
  {
   "cell_type": "code",
   "execution_count": null,
   "metadata": {},
   "outputs": [],
   "source": [
    "plt.plot(xr, yr)\n",
    "plt.plot(xr, lyr)\n",
    "plt.plot(xr, lzr)"
   ]
  },
  {
   "cell_type": "code",
   "execution_count": null,
   "metadata": {},
   "outputs": [],
   "source": [
    "plt.plot(xr, np.log2(abs(ly - y).astype(float)))\n",
    "plt.plot(xr, np.log2(abs(lz - y).astype(float)))"
   ]
  },
  {
   "cell_type": "code",
   "execution_count": null,
   "metadata": {},
   "outputs": [],
   "source": [
    "(fix_to_f(min(t)), fix_to_f(max(t)))"
   ]
  },
  {
   "cell_type": "code",
   "execution_count": null,
   "metadata": {},
   "outputs": [],
   "source": [
    "plt.plot([fix_to_f(t) for t in t])"
   ]
  },
  {
   "cell_type": "code",
   "execution_count": null,
   "metadata": {},
   "outputs": [],
   "source": []
  },
  {
   "cell_type": "code",
   "execution_count": null,
   "metadata": {},
   "outputs": [],
   "source": []
  },
  {
   "cell_type": "code",
   "execution_count": null,
   "metadata": {},
   "outputs": [],
   "source": []
  },
  {
   "cell_type": "code",
   "execution_count": null,
   "metadata": {},
   "outputs": [],
   "source": []
  },
  {
   "cell_type": "code",
   "execution_count": null,
   "metadata": {},
   "outputs": [],
   "source": []
  },
  {
   "cell_type": "code",
   "execution_count": null,
   "metadata": {},
   "outputs": [],
   "source": []
  },
  {
   "cell_type": "code",
   "execution_count": null,
   "metadata": {},
   "outputs": [],
   "source": []
  },
  {
   "cell_type": "code",
   "execution_count": null,
   "metadata": {},
   "outputs": [],
   "source": []
  },
  {
   "cell_type": "code",
   "execution_count": null,
   "metadata": {},
   "outputs": [],
   "source": []
  }
 ],
 "metadata": {
  "kernelspec": {
   "display_name": "Python 3 (ipykernel)",
   "language": "python",
   "name": "python3"
  },
  "language_info": {
   "codemirror_mode": {
    "name": "ipython",
    "version": 3
   },
   "file_extension": ".py",
   "mimetype": "text/x-python",
   "name": "python",
   "nbconvert_exporter": "python",
   "pygments_lexer": "ipython3",
   "version": "3.9.10"
  }
 },
 "nbformat": 4,
 "nbformat_minor": 4
}
