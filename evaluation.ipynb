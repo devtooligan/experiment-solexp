{
 "cells": [
  {
   "cell_type": "markdown",
   "id": "35dfaedf-9233-4ac3-9861-d1b1f92f56ef",
   "metadata": {},
   "source": [
    "## Horner, Clenshaw, Knuth"
   ]
  },
  {
   "cell_type": "code",
   "execution_count": 4,
   "id": "955423fb-cdbd-45fd-818c-79dc3309cb47",
   "metadata": {},
   "outputs": [],
   "source": [
    "def poly_cond(start, stop, coefficients):\n",
    "    x = np.linspace(start, stop, 1000)\n",
    "    cond = evaluate(np.abs(coefficients), np.abs(x)) / np.abs(evaluate(coefficients, x))\n",
    "    plt.plot(x, cond)\n",
    "    return np.max(cond)"
   ]
  },
  {
   "cell_type": "code",
   "execution_count": 5,
   "id": "b74fd3cd-6af7-4123-b7c9-ee64828707df",
   "metadata": {},
   "outputs": [
    {
     "ename": "SyntaxError",
     "evalue": "invalid syntax (52742565.py, line 3)",
     "output_type": "error",
     "traceback": [
      "\u001b[0;36m  Input \u001b[0;32mIn [5]\u001b[0;36m\u001b[0m\n\u001b[0;31m    y = evaluate(coefficients, x)a\u001b[0m\n\u001b[0m                                 ^\u001b[0m\n\u001b[0;31mSyntaxError\u001b[0m\u001b[0;31m:\u001b[0m invalid syntax\n"
     ]
    }
   ],
   "source": [
    "def shift_coefficients(coefficients, shift):\n",
    "    x = np.linspace(0, 1, coefficients.shape[0])\n",
    "    y = evaluate(coefficients, x)a\n",
    "    x -= shift\n",
    "    c = interpolate_poly(x, y)\n",
    "    return c"
   ]
  },
  {
   "cell_type": "code",
   "execution_count": 3,
   "id": "03f0898c-cc00-4344-a830-fed10b193801",
   "metadata": {},
   "outputs": [
    {
     "ename": "NameError",
     "evalue": "name 'np' is not defined",
     "output_type": "error",
     "traceback": [
      "\u001b[0;31m---------------------------------------------------------------------------\u001b[0m",
      "\u001b[0;31mNameError\u001b[0m                                 Traceback (most recent call last)",
      "Input \u001b[0;32mIn [3]\u001b[0m, in \u001b[0;36m<cell line: 1>\u001b[0;34m()\u001b[0m\n\u001b[0;32m----> 1\u001b[0m c \u001b[38;5;241m=\u001b[39m \u001b[43mnp\u001b[49m\u001b[38;5;241m.\u001b[39marray([ \u001b[38;5;241m1.\u001b[39m        , \u001b[38;5;241m-\u001b[39m\u001b[38;5;241m1.94817029\u001b[39m,  \u001b[38;5;241m1.86036663\u001b[39m])\n",
      "\u001b[0;31mNameError\u001b[0m: name 'np' is not defined"
     ]
    }
   ],
   "source": [
    "c = np.array([ 1.        , -1.94817029,  1.86036663])"
   ]
  },
  {
   "cell_type": "code",
   "execution_count": null,
   "id": "67bf5fd3-201b-4dde-8b33-6b4a15f35463",
   "metadata": {},
   "outputs": [],
   "source": []
  }
 ],
 "metadata": {
  "kernelspec": {
   "display_name": "Python 3 (ipykernel)",
   "language": "python",
   "name": "python3"
  },
  "language_info": {
   "codemirror_mode": {
    "name": "ipython",
    "version": 3
   },
   "file_extension": ".py",
   "mimetype": "text/x-python",
   "name": "python",
   "nbconvert_exporter": "python",
   "pygments_lexer": "ipython3",
   "version": "3.9.10"
  }
 },
 "nbformat": 4,
 "nbformat_minor": 5
}
