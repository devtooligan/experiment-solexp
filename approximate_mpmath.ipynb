{
 "cells": [
  {
   "cell_type": "markdown",
   "id": "e7be4805-eff1-49e8-a8c3-30cc0a938d15",
   "metadata": {},
   "source": [
    "# Arbitrary precision rational Remez"
   ]
  },
  {
   "cell_type": "markdown",
   "id": "e3cfb6cb-8eba-4aca-a141-420daf09c46f",
   "metadata": {},
   "source": [
    "## Prelude"
   ]
  },
  {
   "cell_type": "code",
   "execution_count": 3,
   "id": "fc2b5784-8ca8-4326-9bd5-87bdb88d9209",
   "metadata": {},
   "outputs": [
    {
     "name": "stdout",
     "output_type": "stream",
     "text": [
      "\u001b[33mDEPRECATION: Configuring installation scheme with distutils config files is deprecated and will no longer work in the near future. If you are using a Homebrew or Linuxbrew Python, please see discussion at https://github.com/Homebrew/homebrew-core/issues/76621\u001b[0m\u001b[33m\n",
      "\u001b[0mRequirement already satisfied: matplotlib in /opt/homebrew/lib/python3.9/site-packages (3.5.1)\n",
      "Requirement already satisfied: numpy in /opt/homebrew/lib/python3.9/site-packages (1.22.1)\n",
      "Requirement already satisfied: mpmath in /opt/homebrew/lib/python3.9/site-packages (1.2.1)\n",
      "Requirement already satisfied: watermark in /opt/homebrew/lib/python3.9/site-packages (2.3.0)\n",
      "Requirement already satisfied: fonttools>=4.22.0 in /opt/homebrew/lib/python3.9/site-packages (from matplotlib) (4.30.0)\n",
      "Requirement already satisfied: packaging>=20.0 in /opt/homebrew/lib/python3.9/site-packages (from matplotlib) (21.3)\n",
      "Requirement already satisfied: python-dateutil>=2.7 in /opt/homebrew/lib/python3.9/site-packages (from matplotlib) (2.8.2)\n",
      "Requirement already satisfied: pyparsing>=2.2.1 in /opt/homebrew/lib/python3.9/site-packages (from matplotlib) (3.0.7)\n",
      "Requirement already satisfied: pillow>=6.2.0 in /opt/homebrew/lib/python3.9/site-packages (from matplotlib) (9.0.1)\n",
      "Requirement already satisfied: kiwisolver>=1.0.1 in /opt/homebrew/lib/python3.9/site-packages (from matplotlib) (1.4.0)\n",
      "Requirement already satisfied: cycler>=0.10 in /opt/homebrew/lib/python3.9/site-packages (from matplotlib) (0.11.0)\n",
      "Requirement already satisfied: ipython in /opt/homebrew/lib/python3.9/site-packages (from watermark) (8.1.1)\n",
      "Requirement already satisfied: six>=1.5 in /opt/homebrew/lib/python3.9/site-packages (from python-dateutil>=2.7->matplotlib) (1.16.0)\n",
      "Requirement already satisfied: traitlets>=5 in /opt/homebrew/lib/python3.9/site-packages (from ipython->watermark) (5.1.1)\n",
      "Requirement already satisfied: pygments>=2.4.0 in /opt/homebrew/lib/python3.9/site-packages (from ipython->watermark) (2.11.2)\n",
      "Requirement already satisfied: setuptools>=18.5 in /opt/homebrew/lib/python3.9/site-packages (from ipython->watermark) (60.10.0)\n",
      "Requirement already satisfied: stack-data in /opt/homebrew/lib/python3.9/site-packages (from ipython->watermark) (0.2.0)\n",
      "Requirement already satisfied: jedi>=0.16 in /opt/homebrew/lib/python3.9/site-packages (from ipython->watermark) (0.18.1)\n",
      "Requirement already satisfied: pexpect>4.3 in /opt/homebrew/lib/python3.9/site-packages (from ipython->watermark) (4.8.0)\n",
      "Requirement already satisfied: decorator in /opt/homebrew/lib/python3.9/site-packages (from ipython->watermark) (5.1.1)\n",
      "Requirement already satisfied: prompt-toolkit!=3.0.0,!=3.0.1,<3.1.0,>=2.0.0 in /opt/homebrew/lib/python3.9/site-packages (from ipython->watermark) (3.0.28)\n",
      "Requirement already satisfied: appnope in /opt/homebrew/lib/python3.9/site-packages (from ipython->watermark) (0.1.2)\n",
      "Requirement already satisfied: matplotlib-inline in /opt/homebrew/lib/python3.9/site-packages (from ipython->watermark) (0.1.3)\n",
      "Requirement already satisfied: backcall in /opt/homebrew/lib/python3.9/site-packages (from ipython->watermark) (0.2.0)\n",
      "Requirement already satisfied: pickleshare in /opt/homebrew/lib/python3.9/site-packages (from ipython->watermark) (0.7.5)\n",
      "Requirement already satisfied: parso<0.9.0,>=0.8.0 in /opt/homebrew/lib/python3.9/site-packages (from jedi>=0.16->ipython->watermark) (0.8.3)\n",
      "Requirement already satisfied: ptyprocess>=0.5 in /opt/homebrew/lib/python3.9/site-packages (from pexpect>4.3->ipython->watermark) (0.7.0)\n",
      "Requirement already satisfied: wcwidth in /opt/homebrew/lib/python3.9/site-packages (from prompt-toolkit!=3.0.0,!=3.0.1,<3.1.0,>=2.0.0->ipython->watermark) (0.2.5)\n",
      "Requirement already satisfied: executing in /opt/homebrew/lib/python3.9/site-packages (from stack-data->ipython->watermark) (0.8.3)\n",
      "Requirement already satisfied: pure-eval in /opt/homebrew/lib/python3.9/site-packages (from stack-data->ipython->watermark) (0.2.2)\n",
      "Requirement already satisfied: asttokens in /opt/homebrew/lib/python3.9/site-packages (from stack-data->ipython->watermark) (2.0.5)\n",
      "\u001b[33mDEPRECATION: Configuring installation scheme with distutils config files is deprecated and will no longer work in the near future. If you are using a Homebrew or Linuxbrew Python, please see discussion at https://github.com/Homebrew/homebrew-core/issues/76621\u001b[0m\u001b[33m\n",
      "\u001b[0m"
     ]
    }
   ],
   "source": [
    "!pip install matplotlib numpy mpmath watermark"
   ]
  },
  {
   "cell_type": "code",
   "execution_count": 4,
   "id": "76e4d226-3c5a-4da8-ba5d-673518dc6e80",
   "metadata": {},
   "outputs": [],
   "source": [
    "%matplotlib inline\n",
    "\n",
    "import itertools\n",
    "import math\n",
    "\n",
    "import matplotlib\n",
    "import numpy as np\n",
    "from mpmath import mp\n",
    "import matplotlib.pyplot as plt\n",
    "import matplotlib as mpl\n",
    "from ipywidgets import interact, interactive, fixed, interact_manual"
   ]
  },
  {
   "cell_type": "code",
   "execution_count": 5,
   "id": "46b660b0-b1a2-4a45-ba6c-15a81b75bffe",
   "metadata": {},
   "outputs": [],
   "source": [
    "# Defaults more suitable for 4K monitors\n",
    "mpl.rcParams[\"figure.dpi\"] = 120\n",
    "mpl.rcParams[\"figure.figsize\"] = [6.0, 4.0]\n",
    "# Change font to match Latex\n",
    "mpl.rcParams['mathtext.fontset'] = 'cm'\n",
    "mpl.rcParams['font.family'] = 'CMU Serif'\n",
    "# Export settings\n",
    "mpl.rcParams[\"savefig.bbox\"] = 'tight'\n",
    "mpl.rcParams[\"savefig.dpi\"] = 300\n",
    "mpl.rcParams[\"savefig.facecolor\"] = 'white'\n",
    "# High compression lossless WebP for animations using ffmpeg -> libwebp\n",
    "mpl.rcParams[\"animation.writer\"] = 'ffmpeg'\n",
    "mpl.rcParams[\"animation.codec\"] = 'webp'\n",
    "mpl.rcParams[\"animation.ffmpeg_args\"] = [\"-lossless\", \"1\", \"-qscale\", \"100\"]\n",
    "# Use anim.save(\"movie.webp\", fps=60)"
   ]
  },
  {
   "cell_type": "code",
   "execution_count": 8,
   "id": "fe668d05-1a85-413a-afd1-2d3cb63a7a15",
   "metadata": {},
   "outputs": [],
   "source": [
    "# Use a thousand bits of precision in mp\n",
    "mp.prec = 1000"
   ]
  },
  {
   "cell_type": "code",
   "execution_count": 9,
   "id": "e457da80-b12d-4a99-a7d6-9ad6471ce76e",
   "metadata": {},
   "outputs": [
    {
     "name": "stdout",
     "output_type": "stream",
     "text": [
      "Python implementation: CPython\n",
      "Python version       : 3.9.10\n",
      "IPython version      : 8.1.1\n",
      "\n",
      "Compiler    : Clang 13.0.0 (clang-1300.0.29.3)\n",
      "OS          : Darwin\n",
      "Release     : 21.4.0\n",
      "Machine     : arm64\n",
      "Processor   : arm\n",
      "CPU cores   : 10\n",
      "Architecture: 64bit\n",
      "\n",
      "matplotlib: 3.5.1\n",
      "numpy     : 1.22.1\n",
      "\n"
     ]
    }
   ],
   "source": [
    "import watermark.watermark as watermark\n",
    "print(watermark(machine=True, iso8601=True, python=True, iversions=True, globals_=globals()))"
   ]
  },
  {
   "cell_type": "markdown",
   "id": "806fb68c-511f-4c73-a82f-acdaff7a469c",
   "metadata": {},
   "source": [
    "## Target"
   ]
  },
  {
   "cell_type": "code",
   "execution_count": 1003,
   "id": "8849441c-9399-4865-94ff-e872d99c10ba",
   "metadata": {},
   "outputs": [],
   "source": [
    "def f(x):\n",
    "    return mp.exp(x)\n",
    "\n",
    "start = -0.5 * mp.log(2)\n",
    "stop = 0.5 * mp.log(2)"
   ]
  },
  {
   "cell_type": "code",
   "execution_count": 1004,
   "id": "cd2ed6ec-31aa-470d-b7cb-a29d5925ed8f",
   "metadata": {},
   "outputs": [
    {
     "data": {
      "text/plain": [
       "(mpf('-0.346573590279972654708616060729088284037750067180127627060340004746696810984847357802931663498209343771000740510285342866842760117879065278516335375817537972'),\n",
       " mpf('0.346573590279972654708616060729088284037750067180127627060340004746696810984847357802931663498209343771000740510285342866842760117879065278516335375817537972'))"
      ]
     },
     "execution_count": 1004,
     "metadata": {},
     "output_type": "execute_result"
    }
   ],
   "source": [
    "(start, stop)"
   ]
  },
  {
   "cell_type": "markdown",
   "id": "8276c2c2-d144-44e7-9c45-a5a9f1e15d9c",
   "metadata": {},
   "source": [
    "## Utils"
   ]
  },
  {
   "cell_type": "code",
   "execution_count": 1005,
   "id": "51ce8eec-73c1-4604-9046-8f55c584c87a",
   "metadata": {},
   "outputs": [],
   "source": [
    "def linspace(start, stop, n):\n",
    "    return [start + (stop - start) * mp.mpf(i) / (n - 1) for i in range(n)]"
   ]
  },
  {
   "cell_type": "code",
   "execution_count": 1006,
   "id": "6f37b5e0-2499-4f00-bb1f-255e384cc531",
   "metadata": {},
   "outputs": [],
   "source": [
    "def plot(h):\n",
    "    x = linspace(start, stop, 1000)\n",
    "    yf = [f(x) for x in x]\n",
    "    yh = [h(x) for x in x]\n",
    "    \n",
    "    e = [yh - yf for yh, yf in zip(yh, yf)]\n",
    "    em = np.max(np.abs(e))\n",
    "    print(f'Maximum absolute error: {float(em)}')\n",
    "    \n",
    "    fig = plt.figure()\n",
    "    ax1 = plt.subplot(211)\n",
    "    ax2 = plt.subplot(212, sharex = ax1)\n",
    "\n",
    "    ax1.set_title('Function approximation')\n",
    "    ax1.plot(x, yf, color='blue', label='truth')\n",
    "    ax1.plot(x, yh, color='orange', label='approximation')\n",
    "    ax1.legend()\n",
    "    \n",
    "    ax2.set_title('Approximation error')\n",
    "    ax2.plot(x, e, color='red', label='error')\n",
    "    ax2.axhline(0, color='black', linestyle='solid')\n",
    "    ax2.axhline(-em, color='red', linestyle='dashed')\n",
    "    ax2.axhline(em, color='red', linestyle='dashed')"
   ]
  },
  {
   "cell_type": "code",
   "execution_count": 1007,
   "id": "cff34a12-9490-4af1-9f95-8e1668abc05f",
   "metadata": {},
   "outputs": [],
   "source": [
    "def plot_roots(q):\n",
    "    roots = mp.polyroots(list(reversed(q)))\n",
    "    plt.scatter([root.real for root in roots], [root.imag for root in roots])"
   ]
  },
  {
   "cell_type": "markdown",
   "id": "2441a836-4e10-4ed3-a4a5-b704679ff31a",
   "metadata": {},
   "source": [
    "## Chebyshev"
   ]
  },
  {
   "cell_type": "code",
   "execution_count": 1008,
   "id": "798425af-e3ea-4ca8-9d5e-91c0f4d436e8",
   "metadata": {},
   "outputs": [],
   "source": [
    "def chebyshev_nodes(start, stop, n):\n",
    "    x = []\n",
    "    c = (start + stop) / 2\n",
    "    s = (stop - start) / 2\n",
    "    for i in range(n):\n",
    "        f = (2 * mp.mpf(i) + 1 ) / (2 * n)\n",
    "        x.append(c + s * mp.cos(f * mp.pi))\n",
    "    return x"
   ]
  },
  {
   "cell_type": "code",
   "execution_count": 1009,
   "id": "eb6de4a1-5a71-4726-abd4-e3bc6d513991",
   "metadata": {},
   "outputs": [],
   "source": [
    "def ratfn(p ,q):\n",
    "    pr = list(reversed(p))\n",
    "    qr = list(reversed(q))\n",
    "    def h(x):\n",
    "        return mp.polyval(pr, x) / mp.polyval(qr, x)\n",
    "    return h"
   ]
  },
  {
   "cell_type": "code",
   "execution_count": 1010,
   "id": "b01a5b26-a9a5-4445-a731-bd855dbec092",
   "metadata": {},
   "outputs": [],
   "source": [
    "def rational(n, m):\n",
    "    global f, start, stop\n",
    "    x = chebyshev_nodes(start, stop, n + m - 1)\n",
    "    y = [f(x) for x in x]\n",
    "    M = mp.matrix(n + m - 1)\n",
    "    for i in range(M.rows):\n",
    "        for j in range(n):\n",
    "            M[i, j] = x[i] ** j\n",
    "        for j in range(m - 1):\n",
    "            M[i, j + n] = - y[i] * x[i] ** (j + 1)\n",
    "    r = list(mp.lu_solve(M, y))\n",
    "    p, q = r[:n], [mp.mpf(1)] + r[n:]\n",
    "    \n",
    "    # Make sure q has no roots in the domain\n",
    "    for root in mp.polyroots(list(reversed(q))):\n",
    "        # Real roots in the domain\n",
    "        if type(root) == mp.mpf and root >= start and root <= stop:\n",
    "            raise ZeroDivisionError(\"Zeros in denominator\")\n",
    "    \n",
    "    return (p, q, ratfn(p, q))"
   ]
  },
  {
   "cell_type": "markdown",
   "id": "c973c17a-c285-419a-97b8-fc4d8e28bb89",
   "metadata": {},
   "source": [
    "## Remez"
   ]
  },
  {
   "cell_type": "code",
   "execution_count": 1011,
   "id": "6a49b032-78e5-4bee-adb6-60bab9fa73d0",
   "metadata": {},
   "outputs": [],
   "source": [
    "def golden_section_search(f, a, b):\n",
    "    c = b - (b - a) / mp.phi\n",
    "    d = a + (b - a) / mp.phi\n",
    "    while not mp.almosteq(a, b):\n",
    "        if f(c) < f(d):\n",
    "            b = d\n",
    "        else:\n",
    "            a = c\n",
    "        c = b - (b - a) / mp.phi\n",
    "        d = a + (b - a) / mp.phi\n",
    "    return (b + a) / 2"
   ]
  },
  {
   "cell_type": "code",
   "execution_count": 1012,
   "id": "14f6db88-4b1b-4f8b-8df3-c733c2855ee6",
   "metadata": {},
   "outputs": [],
   "source": [
    "def winnow_extrema(x, y, n):\n",
    "    best = None\n",
    "    best_s = None\n",
    "    best_score = None\n",
    "    sx = x[:n]\n",
    "    sy = y[:n]\n",
    "    for s in itertools.combinations(range(len(x)), n):\n",
    "        assert len(s) == n\n",
    "        \n",
    "        # Construct candidate subsequence\n",
    "        for i, j in zip(range(n), s):\n",
    "            sx[i] = x[j]\n",
    "            sy[i] = y[j]\n",
    "        \n",
    "        # Test for alternating\n",
    "        alternating = True\n",
    "        for i in range(n - 1):\n",
    "            if mp.sign(sy[i]) != -mp.sign(sy[i + 1]):\n",
    "                alternating = False\n",
    "                break\n",
    "        if not alternating:\n",
    "            continue\n",
    "        \n",
    "        # Score sequence\n",
    "        score = (min([abs(sy) for sy in sy]), max([abs(sy) for sy in sy]))\n",
    "        # print(s, f'{(float(score[0]),float(score[1]))}')\n",
    "        if best_score is None or score > best_score:\n",
    "            best = (sx[:], sy[:])\n",
    "            best_s = s[:]\n",
    "            best_score = score\n",
    "    \n",
    "    if best is None:\n",
    "        raise \"No valid subsquence found\"\n",
    "    \n",
    "    # print(best_s, f'{(float(best_score[0]),float(best_score[1]))}')\n",
    "    return best"
   ]
  },
  {
   "cell_type": "code",
   "execution_count": 1013,
   "id": "5bf466c1-84ab-4e6b-98a4-a82502cb4faa",
   "metadata": {},
   "outputs": [],
   "source": [
    "def remez_guess(h, n):\n",
    "    # Find initial extrema by grid search.\n",
    "    x = linspace(start, stop, 1000)\n",
    "    yf = [f(x) for x in x]\n",
    "    yh = [h(x) for x in x]\n",
    "    e = [yh - yf for yf, yh in zip(yf, yh)]\n",
    "    d = [n - p for n, p in zip(e[1:], e[:-1])]\n",
    "    xm = [start]\n",
    "    for i in range(len(d) - 1):\n",
    "        if mp.sign(d[i]) != mp.sign(d[i + 1]):\n",
    "            assert x[i] <= x[i + 1]\n",
    "            assert x[i + 1] <= x[i + 2]\n",
    "            # Refine by location\n",
    "            # TODO: Fix this, doesn't seem to work. Give it a _much_ wider range\n",
    "            sign =  -mp.sign(d[i])\n",
    "            xr = golden_section_search(lambda x: sign * (h(x) - f(x)), x[i], x[i+2])\n",
    "            #print(float(xr - x[i]))\n",
    "            xm += [xr]\n",
    "    xm += [stop]\n",
    "    assert len(xm) >= n\n",
    "    \n",
    "    # Refine by root finding\n",
    "    # TODO\n",
    "    \n",
    "    # Winnow\n",
    "    em = [h(x) - f(x) for x in xm]\n",
    "    xm, em = winnow_extrema(xm, em, n)\n",
    "    assert len(xm) == n\n",
    "    \n",
    "    return xm, em"
   ]
  },
  {
   "cell_type": "code",
   "execution_count": 1014,
   "id": "23190920-89d2-4f7f-b703-474730ced8a8",
   "metadata": {},
   "outputs": [],
   "source": [
    "def remez_iter(p, q):\n",
    "    n = len(p)\n",
    "    m = len(q)\n",
    "    h = ratfn(p, q)\n",
    "    x, e = remez_guess(h, n + m)\n",
    "    \n",
    "    # Create matrix\n",
    "    y = [f(x) for x in x]\n",
    "    s = [mp.sign(e) for e in e]\n",
    "    def try_e(e_guess):\n",
    "        M = mp.matrix(n + m)\n",
    "        for i in range(M.rows):\n",
    "            for j in range(n):\n",
    "                M[i, j] = x[i] ** j\n",
    "            for j in range(m - 1):\n",
    "                M[i, j + n] = - (y[i] + s[i] * e_guess) * x[i] ** (j + 1)\n",
    "            M[i, n + m - 1] = - s[i]\n",
    "        r = list(mp.lu_solve(M, y))\n",
    "        p, q, e = r[:n], [mp.mpf(1)] + r[n:n + m - 1], r[-1]\n",
    "        return p, q, e\n",
    "    \n",
    "    e_guess = max([abs(e) for e in e])\n",
    "    iters = 0\n",
    "    while True:\n",
    "        # print(f'Error guess {float(e_guess)}')\n",
    "        p, q, e = try_e(e_guess)\n",
    "        # print(f'Error solved {float(e)}')\n",
    "        # print(f'Error delta {float(e_guess - e)}')\n",
    "        if mp.almosteq(e_guess, e):\n",
    "            break\n",
    "        iters += 1\n",
    "        if iters > 2000:\n",
    "            print(f'Converge failed afer {iters} iterations with {float(abs(e_guess - e))} error delta remaining.')\n",
    "            break\n",
    "        # TODO: Better iteration method\n",
    "        e_guess = (e_guess + e) / 2\n",
    "    print(f'Converged on e in {iters} iterations, e = {float(abs(e_guess))}')\n",
    "    \n",
    "    return p, q, ratfn(p, q)"
   ]
  },
  {
   "cell_type": "code",
   "execution_count": 1015,
   "id": "9110638b-7588-462a-a9b9-3521b9b4d5c4",
   "metadata": {},
   "outputs": [],
   "source": [
    "def approx(n, m, r=5):\n",
    "    p, q, h = rational(n, m)\n",
    "    for i in range(r):\n",
    "        p, q, h = remez_iter(p, q)\n",
    "    return p, q, h"
   ]
  },
  {
   "cell_type": "code",
   "execution_count": 1169,
   "id": "3e3e6c22-e550-429b-bc8c-d4bf852e9f17",
   "metadata": {},
   "outputs": [
    {
     "name": "stdout",
     "output_type": "stream",
     "text": [
      "Optimizing (12, 1)\n",
      "Converged on e in 61 iterations, e = 3.0682735224186422e-18\n",
      "Converged on e in 54 iterations, e = 3.068731509564711e-18\n",
      "Converged on e in 38 iterations, e = 3.0687315214310375e-18\n",
      "Converged on e in 7 iterations, e = 3.0687315214310375e-18\n",
      "Converged on e in 0 iterations, e = 3.0687315214310375e-18\n",
      "Optimizing (11, 2)\n",
      "Converged on e in 59 iterations, e = 2.785168608436631e-19\n",
      "Converged on e in 54 iterations, e = 2.789378229386319e-19\n",
      "Converged on e in 42 iterations, e = 2.789379333687539e-19\n",
      "Converged on e in 17 iterations, e = 2.7893793336875877e-19\n",
      "Converged on e in 0 iterations, e = 2.7893793336875877e-19\n",
      "Optimizing (10, 3)\n",
      "Converged on e in 58 iterations, e = 5.553345158454116e-20\n",
      "Converged on e in 53 iterations, e = 5.577201891853674e-20\n",
      "Converged on e in 42 iterations, e = 5.577219689124372e-20\n",
      "Converged on e in 21 iterations, e = 5.577219689130704e-20\n",
      "Converged on e in 0 iterations, e = 5.577219689130704e-20\n",
      "Optimizing (9, 4)\n",
      "Converged on e in 56 iterations, e = 1.8426062176126126e-20\n",
      "Converged on e in 52 iterations, e = 1.8582753621810878e-20\n",
      "Converged on e in 43 iterations, e = 1.8582985270733495e-20\n",
      "Converged on e in 24 iterations, e = 1.8582985271056528e-20\n",
      "Converged on e in 0 iterations, e = 1.8582985271056528e-20\n",
      "Optimizing (8, 5)\n",
      "Converged on e in 55 iterations, e = 9.15655405118131e-21\n",
      "Converged on e in 52 iterations, e = 9.285993394441892e-21\n",
      "Converged on e in 43 iterations, e = 9.286312041065342e-21\n",
      "Converged on e in 26 iterations, e = 9.286312042293663e-21\n",
      "Converged on e in 0 iterations, e = 9.286312042293663e-21\n",
      "Optimizing (7, 6)\n",
      "Converged on e in 55 iterations, e = 6.4903779017773225e-21\n",
      "Converged on e in 52 iterations, e = 6.627938409988165e-21\n",
      "Converged on e in 44 iterations, e = 6.628447287166781e-21\n",
      "Converged on e in 28 iterations, e = 6.6284472915786765e-21\n",
      "Converged on e in 0 iterations, e = 6.6284472915786765e-21\n",
      "Optimizing (6, 7)\n",
      "Converged on e in 55 iterations, e = 6.4310204247461806e-21\n",
      "Converged on e in 53 iterations, e = 6.621892200496441e-21\n",
      "Converged on e in 45 iterations, e = 6.622883798969281e-21\n",
      "Converged on e in 30 iterations, e = 6.6228838158415384e-21\n",
      "Converged on e in 0 iterations, e = 6.6228838158415384e-21\n",
      "Optimizing (5, 8)\n",
      "Converged on e in 55 iterations, e = 8.907805299373375e-21\n",
      "Converged on e in 54 iterations, e = 9.260495298363121e-21\n",
      "Converged on e in 47 iterations, e = 9.262947947381577e-21\n",
      "Converged on e in 32 iterations, e = 9.262948021733144e-21\n",
      "Converged on e in 3 iterations, e = 9.262948021733144e-21\n",
      "Optimizing (4, 9)\n",
      "Converged on e in 55 iterations, e = 1.7600567167206333e-20\n",
      "Converged on e in 56 iterations, e = 1.8497069407493564e-20\n",
      "Converged on e in 49 iterations, e = 1.850512197936556e-20\n",
      "Converged on e in 35 iterations, e = 1.8505122383990677e-20\n",
      "Converged on e in 7 iterations, e = 1.8505122383990677e-20\n",
      "Optimizing (3, 10)\n",
      "Converged on e in 56 iterations, e = 5.208930214043012e-20\n",
      "Converged on e in 58 iterations, e = 5.540782473657279e-20\n",
      "Converged on e in 51 iterations, e = 5.544527803695152e-20\n",
      "Converged on e in 38 iterations, e = 5.544528098683326e-20\n",
      "Converged on e in 11 iterations, e = 5.544528098683327e-20\n",
      "Optimizing (2, 11)\n",
      "Converged on e in 57 iterations, e = 2.5657035641906327e-19\n",
      "Converged on e in 61 iterations, e = 2.765598991397478e-19\n",
      "Converged on e in 55 iterations, e = 2.7683722572352864e-19\n",
      "Converged on e in 42 iterations, e = 2.768372584714227e-19\n",
      "Converged on e in 16 iterations, e = 2.7683725847142305e-19\n",
      "Optimizing (1, 12)\n",
      "Converged on e in 59 iterations, e = 2.7764385910409766e-18\n",
      "Converged on e in 65 iterations, e = 3.036152914324804e-18\n",
      "Converged on e in 59 iterations, e = 3.0405039504124936e-18\n",
      "Converged on e in 46 iterations, e = 3.0405046933216787e-18\n",
      "Converged on e in 21 iterations, e = 3.0405046933216965e-18\n"
     ]
    }
   ],
   "source": [
    "# Use medium precision to find the number of coefficients\n",
    "mp.prec = 128\n",
    "num_parameters = 12\n",
    "\n",
    "for j in range(num_parameters):\n",
    "    n = num_parameters - j\n",
    "    m = 1 + num_parameters - n\n",
    "    print(f'Optimizing ({n}, {m})')\n",
    "    try:\n",
    "        p, q, h = approx(n, m, 5)\n",
    "    except:\n",
    "        print(f'({n}, {m}) failed')"
   ]
  },
  {
   "cell_type": "code",
   "execution_count": 1167,
   "id": "d16d2d35-e9a2-45fe-a8ef-890962b25c90",
   "metadata": {},
   "outputs": [
    {
     "name": "stdout",
     "output_type": "stream",
     "text": [
      "Converged on e in 898 iterations, e = 6.431020423872226e-21\n"
     ]
    },
    {
     "ename": "KeyboardInterrupt",
     "evalue": "",
     "output_type": "error",
     "traceback": [
      "\u001b[0;31m---------------------------------------------------------------------------\u001b[0m",
      "\u001b[0;31mKeyboardInterrupt\u001b[0m                         Traceback (most recent call last)",
      "Input \u001b[0;32mIn [1167]\u001b[0m, in \u001b[0;36m<cell line: 4>\u001b[0;34m()\u001b[0m\n\u001b[1;32m      1\u001b[0m \u001b[38;5;66;03m# Use very high precision to find the target rational function\u001b[39;00m\n\u001b[1;32m      2\u001b[0m mp\u001b[38;5;241m.\u001b[39mprec \u001b[38;5;241m=\u001b[39m \u001b[38;5;241m1000\u001b[39m\n\u001b[0;32m----> 4\u001b[0m p, q, h \u001b[38;5;241m=\u001b[39m \u001b[43mapprox\u001b[49m\u001b[43m(\u001b[49m\u001b[38;5;241;43m6\u001b[39;49m\u001b[43m,\u001b[49m\u001b[43m \u001b[49m\u001b[38;5;241;43m7\u001b[39;49m\u001b[43m,\u001b[49m\u001b[43m \u001b[49m\u001b[38;5;241;43m12\u001b[39;49m\u001b[43m)\u001b[49m\n\u001b[1;32m      5\u001b[0m plot(h)\n",
      "Input \u001b[0;32mIn [1015]\u001b[0m, in \u001b[0;36mapprox\u001b[0;34m(n, m, r)\u001b[0m\n\u001b[1;32m      2\u001b[0m p, q, h \u001b[38;5;241m=\u001b[39m rational(n, m)\n\u001b[1;32m      3\u001b[0m \u001b[38;5;28;01mfor\u001b[39;00m i \u001b[38;5;129;01min\u001b[39;00m \u001b[38;5;28mrange\u001b[39m(r):\n\u001b[0;32m----> 4\u001b[0m     p, q, h \u001b[38;5;241m=\u001b[39m \u001b[43mremez_iter\u001b[49m\u001b[43m(\u001b[49m\u001b[43mp\u001b[49m\u001b[43m,\u001b[49m\u001b[43m \u001b[49m\u001b[43mq\u001b[49m\u001b[43m)\u001b[49m\n\u001b[1;32m      5\u001b[0m \u001b[38;5;28;01mreturn\u001b[39;00m p, q, h\n",
      "Input \u001b[0;32mIn [1014]\u001b[0m, in \u001b[0;36mremez_iter\u001b[0;34m(p, q)\u001b[0m\n\u001b[1;32m     23\u001b[0m iters \u001b[38;5;241m=\u001b[39m \u001b[38;5;241m0\u001b[39m\n\u001b[1;32m     24\u001b[0m \u001b[38;5;28;01mwhile\u001b[39;00m \u001b[38;5;28;01mTrue\u001b[39;00m:\n\u001b[1;32m     25\u001b[0m     \u001b[38;5;66;03m# print(f'Error guess {float(e_guess)}')\u001b[39;00m\n\u001b[0;32m---> 26\u001b[0m     p, q, e \u001b[38;5;241m=\u001b[39m \u001b[43mtry_e\u001b[49m\u001b[43m(\u001b[49m\u001b[43me_guess\u001b[49m\u001b[43m)\u001b[49m\n\u001b[1;32m     27\u001b[0m     \u001b[38;5;66;03m# print(f'Error solved {float(e)}')\u001b[39;00m\n\u001b[1;32m     28\u001b[0m     \u001b[38;5;66;03m# print(f'Error delta {float(e_guess - e)}')\u001b[39;00m\n\u001b[1;32m     29\u001b[0m     \u001b[38;5;28;01mif\u001b[39;00m mp\u001b[38;5;241m.\u001b[39malmosteq(e_guess, e):\n",
      "Input \u001b[0;32mIn [1014]\u001b[0m, in \u001b[0;36mremez_iter.<locals>.try_e\u001b[0;34m(e_guess)\u001b[0m\n\u001b[1;32m     16\u001b[0m         M[i, j \u001b[38;5;241m+\u001b[39m n] \u001b[38;5;241m=\u001b[39m \u001b[38;5;241m-\u001b[39m (y[i] \u001b[38;5;241m+\u001b[39m s[i] \u001b[38;5;241m*\u001b[39m e_guess) \u001b[38;5;241m*\u001b[39m x[i] \u001b[38;5;241m*\u001b[39m\u001b[38;5;241m*\u001b[39m (j \u001b[38;5;241m+\u001b[39m \u001b[38;5;241m1\u001b[39m)\n\u001b[1;32m     17\u001b[0m     M[i, n \u001b[38;5;241m+\u001b[39m m \u001b[38;5;241m-\u001b[39m \u001b[38;5;241m1\u001b[39m] \u001b[38;5;241m=\u001b[39m \u001b[38;5;241m-\u001b[39m s[i]\n\u001b[0;32m---> 18\u001b[0m r \u001b[38;5;241m=\u001b[39m \u001b[38;5;28mlist\u001b[39m(\u001b[43mmp\u001b[49m\u001b[38;5;241;43m.\u001b[39;49m\u001b[43mlu_solve\u001b[49m\u001b[43m(\u001b[49m\u001b[43mM\u001b[49m\u001b[43m,\u001b[49m\u001b[43m \u001b[49m\u001b[43my\u001b[49m\u001b[43m)\u001b[49m)\n\u001b[1;32m     19\u001b[0m p, q, e \u001b[38;5;241m=\u001b[39m r[:n], [mp\u001b[38;5;241m.\u001b[39mmpf(\u001b[38;5;241m1\u001b[39m)] \u001b[38;5;241m+\u001b[39m r[n:n \u001b[38;5;241m+\u001b[39m m \u001b[38;5;241m-\u001b[39m \u001b[38;5;241m1\u001b[39m], r[\u001b[38;5;241m-\u001b[39m\u001b[38;5;241m1\u001b[39m]\n\u001b[1;32m     20\u001b[0m \u001b[38;5;28;01mreturn\u001b[39;00m p, q, e\n",
      "File \u001b[0;32m/opt/homebrew/lib/python3.9/site-packages/mpmath/matrices/linalg.py:226\u001b[0m, in \u001b[0;36mLinearAlgebraMethods.lu_solve\u001b[0;34m(ctx, A, b, **kwargs)\u001b[0m\n\u001b[1;32m    223\u001b[0m         x \u001b[38;5;241m=\u001b[39m ctx\u001b[38;5;241m.\u001b[39mlu_solve(A, b)\n\u001b[1;32m    224\u001b[0m \u001b[38;5;28;01melse\u001b[39;00m:\n\u001b[1;32m    225\u001b[0m     \u001b[38;5;66;03m# LU factorization\u001b[39;00m\n\u001b[0;32m--> 226\u001b[0m     A, p \u001b[38;5;241m=\u001b[39m \u001b[43mctx\u001b[49m\u001b[38;5;241;43m.\u001b[39;49m\u001b[43mLU_decomp\u001b[49m\u001b[43m(\u001b[49m\u001b[43mA\u001b[49m\u001b[43m)\u001b[49m\n\u001b[1;32m    227\u001b[0m     b \u001b[38;5;241m=\u001b[39m ctx\u001b[38;5;241m.\u001b[39mL_solve(A, b, p)\n\u001b[1;32m    228\u001b[0m     x \u001b[38;5;241m=\u001b[39m ctx\u001b[38;5;241m.\u001b[39mU_solve(A, b)\n",
      "File \u001b[0;32m/opt/homebrew/lib/python3.9/site-packages/mpmath/matrices/linalg.py:149\u001b[0m, in \u001b[0;36mLinearAlgebraMethods.LU_decomp\u001b[0;34m(ctx, A, overwrite, use_cache)\u001b[0m\n\u001b[1;32m    147\u001b[0m         A[i,j] \u001b[38;5;241m/\u001b[39m\u001b[38;5;241m=\u001b[39m A[j,j]\n\u001b[1;32m    148\u001b[0m         \u001b[38;5;28;01mfor\u001b[39;00m k \u001b[38;5;129;01min\u001b[39;00m xrange(j \u001b[38;5;241m+\u001b[39m \u001b[38;5;241m1\u001b[39m, n):\n\u001b[0;32m--> 149\u001b[0m             A[i,k] \u001b[38;5;241m-\u001b[39m\u001b[38;5;241m=\u001b[39m A[i,j]\u001b[38;5;241m*\u001b[39mA[j,k]\n\u001b[1;32m    150\u001b[0m \u001b[38;5;28;01mif\u001b[39;00m ctx\u001b[38;5;241m.\u001b[39mabsmin(A[n \u001b[38;5;241m-\u001b[39m \u001b[38;5;241m1\u001b[39m,n \u001b[38;5;241m-\u001b[39m \u001b[38;5;241m1\u001b[39m]) \u001b[38;5;241m<\u001b[39m\u001b[38;5;241m=\u001b[39m tol:\n\u001b[1;32m    151\u001b[0m     \u001b[38;5;28;01mraise\u001b[39;00m \u001b[38;5;167;01mZeroDivisionError\u001b[39;00m(\u001b[38;5;124m'\u001b[39m\u001b[38;5;124mmatrix is numerically singular\u001b[39m\u001b[38;5;124m'\u001b[39m)\n",
      "File \u001b[0;32m<string>:7\u001b[0m, in \u001b[0;36m__sub__\u001b[0;34m(self, other)\u001b[0m\n",
      "File \u001b[0;32m/opt/homebrew/lib/python3.9/site-packages/mpmath/libmp/libmpf.py:800\u001b[0m, in \u001b[0;36mmpf_sub\u001b[0;34m(s, t, prec, rnd)\u001b[0m\n\u001b[1;32m    797\u001b[0m \u001b[38;5;28;01mdef\u001b[39;00m \u001b[38;5;21mmpf_sub\u001b[39m(s, t, prec\u001b[38;5;241m=\u001b[39m\u001b[38;5;241m0\u001b[39m, rnd\u001b[38;5;241m=\u001b[39mround_fast):\n\u001b[1;32m    798\u001b[0m     \u001b[38;5;124;03m\"\"\"Return the difference of two raw mpfs, s-t. This function is\u001b[39;00m\n\u001b[1;32m    799\u001b[0m \u001b[38;5;124;03m    simply a wrapper of mpf_add that changes the sign of t.\"\"\"\u001b[39;00m\n\u001b[0;32m--> 800\u001b[0m     \u001b[38;5;28;01mreturn\u001b[39;00m \u001b[43mmpf_add\u001b[49m\u001b[43m(\u001b[49m\u001b[43ms\u001b[49m\u001b[43m,\u001b[49m\u001b[43m \u001b[49m\u001b[43mt\u001b[49m\u001b[43m,\u001b[49m\u001b[43m \u001b[49m\u001b[43mprec\u001b[49m\u001b[43m,\u001b[49m\u001b[43m \u001b[49m\u001b[43mrnd\u001b[49m\u001b[43m,\u001b[49m\u001b[43m \u001b[49m\u001b[38;5;241;43m1\u001b[39;49m\u001b[43m)\u001b[49m\n",
      "File \u001b[0;32m/opt/homebrew/lib/python3.9/site-packages/mpmath/libmp/libmpf.py:712\u001b[0m, in \u001b[0;36mmpf_add\u001b[0;34m(s, t, prec, rnd, _sub)\u001b[0m\n\u001b[1;32m    710\u001b[0m ssign, sman, sexp, sbc \u001b[38;5;241m=\u001b[39m s\n\u001b[1;32m    711\u001b[0m tsign, tman, texp, tbc \u001b[38;5;241m=\u001b[39m t\n\u001b[0;32m--> 712\u001b[0m tsign \u001b[38;5;241m^\u001b[39m\u001b[38;5;241m=\u001b[39m _sub\n\u001b[1;32m    713\u001b[0m \u001b[38;5;66;03m# Standard case: two nonzero, regular numbers\u001b[39;00m\n\u001b[1;32m    714\u001b[0m \u001b[38;5;28;01mif\u001b[39;00m sman \u001b[38;5;129;01mand\u001b[39;00m tman:\n",
      "\u001b[0;31mKeyboardInterrupt\u001b[0m: "
     ]
    }
   ],
   "source": [
    "# Use very high precision to find the target rational function\n",
    "mp.prec = 1000\n",
    "\n",
    "p, q, h = approx(6, 7, 12)\n",
    "plot(h)"
   ]
  },
  {
   "cell_type": "code",
   "execution_count": 1166,
   "id": "4cbf158a-5954-4aa4-8dae-afeab42e7956",
   "metadata": {},
   "outputs": [
    {
     "data": {
      "image/png": "[encoded data removed]",
      "text/plain": [
       "<Figure size 720x480 with 1 Axes>"
      ]
     },
     "metadata": {
      "needs_background": "light"
     },
     "output_type": "display_data"
    }
   ],
   "source": [
    "# Make sure the roots are not near the domain\n",
    "plot_roots(q)"
   ]
  },
  {
   "cell_type": "code",
   "execution_count": 1019,
   "id": "1c7024a2-e3ba-4023-b6f7-7b22fb533db7",
   "metadata": {},
   "outputs": [],
   "source": [
    "# Rescale so q[-1] is 1\n",
    "pr = [pi / q[-1] for pi in p]\n",
    "qr = [qi / q[-1] for qi in q]"
   ]
  },
  {
   "cell_type": "code",
   "execution_count": 1021,
   "id": "5947b306-9f1e-4261-bbcd-79b89d1c188d",
   "metadata": {},
   "outputs": [
    {
     "data": {
      "text/plain": [
       "mpf('0.693147180559945309417232121458176568075500134360255254120680009493393621969694715605863326996418687542001481020570685733685520235758130557032670751635075961930727570828371435190307038623891673471123350115364497955239120475172681574932065155524734139525882950453007095326366642654104239157814952043740407')"
      ]
     },
     "execution_count": 1021,
     "metadata": {},
     "output_type": "execute_result"
    }
   ],
   "source": []
  },
  {
   "cell_type": "code",
   "execution_count": 1173,
   "id": "ee04b6d2-99b1-4d9c-a229-3279c3f63ae2",
   "metadata": {},
   "outputs": [
    {
     "name": "stdout",
     "output_type": "stream",
     "text": [
      "477854134370404556630342282363 // 6.031367120048645\n",
      "16718958074186125785429723300994 // 211.02291841207378\n",
      "267406022731302253162841045679923 // 3375.138514453849\n",
      "2405842938758026514885988413895746 // 30366.007015811778\n",
      "12025579931005125156911976381633042 // 151784.15792288538\n",
      "26449188498355588339771844097777124 // 333835.6924987834\n",
      "\n",
      "79228162514264337593543950336 // 1.0\n",
      "-2855989394907223263936484059900 // -36.04765406988995\n",
      "50020603652535783019961831881945 // 631.3487788326532\n",
      "-533845033583426703283633433725380 // -6738.071623045815\n",
      "3604857256930695427073651918091429 // 45499.69534231811\n",
      "-14423608567350463180887372962807573 // -182051.53457589805\n",
      "26449188498355588339934803723976023 // 333835.6924987834\n"
     ]
    }
   ],
   "source": [
    "# Print closest representable numbers\n",
    "def represent(x, base = 2**96):\n",
    "    n = int(mp.nint(x * base))\n",
    "    #if n < 0:\n",
    "    #    n += 2**256\n",
    "    # assert n >= 0 and n < 2**256\n",
    "    return n\n",
    "\n",
    "for pi in reversed(pr):\n",
    "    print(f'{represent(pi)} // {float(pi)}')\n",
    "\n",
    "print()\n",
    "for qi in reversed(qr):\n",
    "    print(f'{represent(qi)} // {float(qi)}')"
   ]
  },
  {
   "cell_type": "code",
   "execution_count": 933,
   "id": "6cc5e708-41d7-4da4-8356-e234883915b6",
   "metadata": {},
   "outputs": [
    {
     "name": "stdout",
     "output_type": "stream",
     "text": [
      "-32, -2535301200456458802993406410752, 1003358566231181\n",
      "-16, -1267650600228229401496703205376, 8915955111228592727647\n",
      "-8, -633825300114114700748351602688, 26578087600922394298733672\n",
      "-4, -316912650057057350374175801344, 1451114414429211511965335629\n",
      "-2, -158456325028528675187087900672, 10722365814184344471345157570\n",
      "-1, -79228162514264337593543950336, 29146412150787779157341161347\n"
     ]
    }
   ],
   "source": [
    "for i in reversed(range(6)):\n",
    "    e = -2**i\n",
    "    print(f'{e}, {represent(e)}, {represent(mp.exp(mp.mpf(e)))}')"
   ]
  },
  {
   "cell_type": "code",
   "execution_count": 1174,
   "id": "2db35317-f91a-4c1c-ade1-5bde834b9fc8",
   "metadata": {},
   "outputs": [],
   "source": [
    "def eval_poly(c, x):\n",
    "    r = c[-1]\n",
    "    for c in reversed(c[:-1]):\n",
    "        # print(represent(r))\n",
    "        r = r * x + c\n",
    "    return r"
   ]
  },
  {
   "cell_type": "code",
   "execution_count": 1175,
   "id": "82578dd2-67e3-42bd-b771-79114e3d3aff",
   "metadata": {},
   "outputs": [],
   "source": [
    "def range_reduce(x):\n",
    "    k = mp.nint(x / mp.log(2))\n",
    "    k = mp.floor(x / mp.log(2) + 0.5)\n",
    "    r = x - k * mp.log(2)\n",
    "    assert r >= start and r <= stop\n",
    "    return r, k"
   ]
  },
  {
   "cell_type": "code",
   "execution_count": 1176,
   "id": "51dfac2e-c7eb-4632-a6ac-00b577f6e2d9",
   "metadata": {},
   "outputs": [],
   "source": [
    "x = linspace(-42, 135, 10000)\n",
    "#x = linspace(-5, 5, 10000)\n",
    "r = [range_reduce(x)[0] for x in x]\n",
    "k = [range_reduce(x)[1] for x in x]"
   ]
  },
  {
   "cell_type": "code",
   "execution_count": 1177,
   "id": "672a451e-b4f9-46a0-94c5-b7cdcd3e8d69",
   "metadata": {},
   "outputs": [
    {
     "data": {
      "text/plain": [
       "<matplotlib.lines.Line2D at 0x28b64eee0>"
      ]
     },
     "execution_count": 1177,
     "metadata": {},
     "output_type": "execute_result"
    },
    {
     "data": {
      "image/png": "[encoded data removed]",
      "text/plain": [
       "<Figure size 720x480 with 1 Axes>"
      ]
     },
     "metadata": {
      "needs_background": "light"
     },
     "output_type": "display_data"
    }
   ],
   "source": [
    "plt.plot(x, r)\n",
    "plt.axhline(start, color='red')\n",
    "plt.axhline(stop, color='red')"
   ]
  },
  {
   "cell_type": "code",
   "execution_count": 1178,
   "id": "49f69cb3-34ac-420b-aa6e-2ad5685623d2",
   "metadata": {},
   "outputs": [
    {
     "data": {
      "text/plain": [
       "[<matplotlib.lines.Line2D at 0x28b9f3a90>]"
      ]
     },
     "execution_count": 1178,
     "metadata": {},
     "output_type": "execute_result"
    },
    {
     "data": {
      "image/png": "[encoded data removed]",
      "text/plain": [
       "<Figure size 720x480 with 1 Axes>"
      ]
     },
     "metadata": {
      "needs_background": "light"
     },
     "output_type": "display_data"
    }
   ],
   "source": [
    "plt.plot(x, k)"
   ]
  },
  {
   "cell_type": "code",
   "execution_count": 1180,
   "id": "85f061d9-5300-40fd-ae8b-c7fcd8ecddd9",
   "metadata": {},
   "outputs": [
    {
     "data": {
      "text/plain": [
       "(mpf('0.7071067811865475244008443621048490392845'),\n",
       " mpf('1.414213562373095048801688724209698078569'))"
      ]
     },
     "execution_count": 1180,
     "metadata": {},
     "output_type": "execute_result"
    }
   ],
   "source": [
    "mp.exp(start), mp.exp(stop)"
   ]
  },
  {
   "cell_type": "code",
   "execution_count": 1181,
   "id": "a7888000-a36f-4072-ba9b-2068d00e6a3b",
   "metadata": {},
   "outputs": [
    {
     "data": {
      "text/plain": [
       "292"
      ]
     },
     "execution_count": 1181,
     "metadata": {},
     "output_type": "execute_result"
    }
   ],
   "source": [
    "96 + 196"
   ]
  },
  {
   "cell_type": "code",
   "execution_count": 1187,
   "id": "80ce0461-e9d1-4b89-8061-eb4337a4b433",
   "metadata": {},
   "outputs": [
    {
     "data": {
      "text/plain": [
       "mpf('138.37966820869367844311948867475683967475')"
      ]
     },
     "execution_count": 1187,
     "metadata": {},
     "output_type": "execute_result"
    }
   ],
   "source": [
    "mp.log(1.5 * 3814697265625 * 2**96) / mp.log(2)"
   ]
  },
  {
   "cell_type": "code",
   "execution_count": 1188,
   "id": "e25e9a74-fe45-4b8f-b8aa-1b7e98b78aaf",
   "metadata": {},
   "outputs": [
    {
     "data": {
      "text/plain": [
       "117"
      ]
     },
     "execution_count": 1188,
     "metadata": {},
     "output_type": "execute_result"
    }
   ],
   "source": [
    "256 - 139"
   ]
  },
  {
   "cell_type": "code",
   "execution_count": 1197,
   "id": "62be9e87-3e12-47bc-97a2-dde4fb355da2",
   "metadata": {},
   "outputs": [
    {
     "data": {
      "text/plain": [
       "mpf('135305999368893231589.0')"
      ]
     },
     "execution_count": 1197,
     "metadata": {},
     "output_type": "execute_result"
    }
   ],
   "source": [
    "mp.floor(mp.log((mp.mpf(2**255) - 1) / 1e18) * 1e18)"
   ]
  },
  {
   "cell_type": "code",
   "execution_count": 1198,
   "id": "94699322-356a-4618-bd9f-8e958524d654",
   "metadata": {},
   "outputs": [
    {
     "data": {
      "text/plain": [
       "mpf('0.99999999999999999992965521248353087781244')"
      ]
     },
     "execution_count": 1198,
     "metadata": {},
     "output_type": "execute_result"
    }
   ],
   "source": [
    "mp.exp(mp.mpf(135305999368893231589) / 1e18) * 1e18 / 2**255"
   ]
  },
  {
   "cell_type": "code",
   "execution_count": 1199,
   "id": "71b493e2-64a5-4b64-bcc7-f0a825c91587",
   "metadata": {},
   "outputs": [
    {
     "data": {
      "text/plain": [
       "5.78960446186581e+58"
      ]
     },
     "execution_count": 1199,
     "metadata": {},
     "output_type": "execute_result"
    }
   ],
   "source": [
    "57896044618658097649809650851135836446708721278684416180224000000000000000000 / 1e18"
   ]
  },
  {
   "cell_type": "code",
   "execution_count": 1201,
   "id": "c32cd298-007f-4b9e-809d-64edbfaf8e32",
   "metadata": {},
   "outputs": [
    {
     "data": {
      "text/plain": [
       "mpf('-4.2039921047687509331676632734967562690888e+42')"
      ]
     },
     "execution_count": 1201,
     "metadata": {},
     "output_type": "execute_result"
    }
   ],
   "source": [
    "mp.exp(mp.mpf(135305999368893231588) / 1e18) - 57896044618658097649809650851135836446708721278684416180224000000000000000000 / 1e18"
   ]
  },
  {
   "cell_type": "code",
   "execution_count": 1202,
   "id": "697b5b01-97ae-4a16-b3e3-dae77e65903b",
   "metadata": {},
   "outputs": [
    {
     "data": {
      "text/plain": [
       "195"
      ]
     },
     "execution_count": 1202,
     "metadata": {},
     "output_type": "execute_result"
    }
   ],
   "source": [
    "117 + 78"
   ]
  },
  {
   "cell_type": "code",
   "execution_count": 1203,
   "id": "6e6554ca-2b61-4426-b3d5-5a984c91b7b3",
   "metadata": {},
   "outputs": [
    {
     "data": {
      "text/plain": [
       "1.2621774483536189e-11"
      ]
     },
     "execution_count": 1203,
     "metadata": {},
     "output_type": "execute_result"
    }
   ],
   "source": [
    "5**18 / 2**78"
   ]
  },
  {
   "cell_type": "code",
   "execution_count": 1204,
   "id": "fadfc99f-7d8c-471e-b512-fb2299f2146b",
   "metadata": {},
   "outputs": [
    {
     "data": {
      "text/plain": [
       "383"
      ]
     },
     "execution_count": 1204,
     "metadata": {},
     "output_type": "execute_result"
    }
   ],
   "source": [
    "1104 - 721"
   ]
  },
  {
   "cell_type": "code",
   "execution_count": 1205,
   "id": "f5d9567e-0ba6-4dff-b274-2b6499269f6b",
   "metadata": {},
   "outputs": [
    {
     "data": {
      "text/plain": [
       "500"
      ]
     },
     "execution_count": 1205,
     "metadata": {},
     "output_type": "execute_result"
    }
   ],
   "source": [
    "1604 - 1104"
   ]
  },
  {
   "cell_type": "code",
   "execution_count": 1206,
   "id": "05ca866f-d630-427f-b9cf-e581bdd15241",
   "metadata": {},
   "outputs": [
    {
     "data": {
      "text/plain": [
       "135.30599936889323"
      ]
     },
     "execution_count": 1206,
     "metadata": {},
     "output_type": "execute_result"
    }
   ],
   "source": [
    "135305999368893231589 / 1e18"
   ]
  },
  {
   "cell_type": "code",
   "execution_count": 1207,
   "id": "d0eb783d-3073-4148-8542-802b1d401b21",
   "metadata": {},
   "outputs": [
    {
     "data": {
      "text/plain": [
       "456"
      ]
     },
     "execution_count": 1207,
     "metadata": {},
     "output_type": "execute_result"
    }
   ],
   "source": [
    "1557 - 1101"
   ]
  },
  {
   "cell_type": "code",
   "execution_count": 1208,
   "id": "5a7ee7a3-dccc-4711-a38f-44c056908f66",
   "metadata": {},
   "outputs": [
    {
     "data": {
      "text/plain": [
       "456"
      ]
     },
     "execution_count": 1208,
     "metadata": {},
     "output_type": "execute_result"
    }
   ],
   "source": [
    "2013 - 1557"
   ]
  },
  {
   "cell_type": "code",
   "execution_count": 1209,
   "id": "c33e4abc-c28d-4890-903a-aced429a4992",
   "metadata": {},
   "outputs": [
    {
     "data": {
      "text/plain": [
       "6.031367120048645"
      ]
     },
     "execution_count": 1209,
     "metadata": {},
     "output_type": "execute_result"
    }
   ],
   "source": [
    "477854134370404556630342282363 / 2**96"
   ]
  },
  {
   "cell_type": "code",
   "execution_count": null,
   "id": "318520ef-be15-4cdc-9fa4-fd943ccd1ec5",
   "metadata": {},
   "outputs": [],
   "source": []
  }
 ],
 "metadata": {
  "kernelspec": {
   "display_name": "Python 3 (ipykernel)",
   "language": "python",
   "name": "python3"
  },
  "language_info": {
   "codemirror_mode": {
    "name": "ipython",
    "version": 3
   },
   "file_extension": ".py",
   "mimetype": "text/x-python",
   "name": "python",
   "nbconvert_exporter": "python",
   "pygments_lexer": "ipython3",
   "version": "3.9.10"
  }
 },
 "nbformat": 4,
 "nbformat_minor": 5
}
